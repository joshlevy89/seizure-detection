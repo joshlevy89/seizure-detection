{
 "cells": [
  {
   "cell_type": "markdown",
   "metadata": {},
   "source": [
    "# Fit and predict using pib features and logistic regression"
   ]
  },
  {
   "cell_type": "code",
   "execution_count": 39,
   "metadata": {
    "collapsed": false
   },
   "outputs": [],
   "source": [
    "import pandas as pd\n",
    "import numpy as np\n",
    "import matplotlib.pyplot as plt\n",
    "import seaborn as sns\n",
    "from IPython.display import display\n",
    "from sklearn import preprocessing\n",
    "from sklearn.linear_model import SGDClassifier\n",
    "from sklearn.model_selection import train_test_split, GridSearchCV\n",
    "from sklearn.metrics import roc_auc_score, roc_curve\n",
    "from sklearn.pipeline import Pipeline\n",
    "from sklearn.preprocessing import StandardScaler, Imputer\n",
    "from sklearn.feature_selection import SelectKBest\n",
    "%matplotlib inline\n",
    "plt.style.use('seaborn-notebook')"
   ]
  },
  {
   "cell_type": "markdown",
   "metadata": {},
   "source": [
    "## Load data "
   ]
  },
  {
   "cell_type": "code",
   "execution_count": 3,
   "metadata": {
    "collapsed": false
   },
   "outputs": [
    {
     "data": {
      "text/html": [
       "<div>\n",
       "<table border=\"1\" class=\"dataframe\">\n",
       "  <thead>\n",
       "    <tr style=\"text-align: right;\">\n",
       "      <th></th>\n",
       "      <th>dir_name</th>\n",
       "      <th>file_name</th>\n",
       "      <th>path</th>\n",
       "      <th>patient</th>\n",
       "      <th>preictal</th>\n",
       "      <th>train</th>\n",
       "      <th>pib_3</th>\n",
       "      <th>pib_2</th>\n",
       "      <th>pib_1</th>\n",
       "    </tr>\n",
       "  </thead>\n",
       "  <tbody>\n",
       "    <tr>\n",
       "      <th>0</th>\n",
       "      <td>test_1</td>\n",
       "      <td>1_1.mat</td>\n",
       "      <td>test_1/1_1.mat</td>\n",
       "      <td>1</td>\n",
       "      <td>-1</td>\n",
       "      <td>0</td>\n",
       "      <td>848777</td>\n",
       "      <td>1897922</td>\n",
       "      <td>511194</td>\n",
       "    </tr>\n",
       "    <tr>\n",
       "      <th>1</th>\n",
       "      <td>test_1</td>\n",
       "      <td>1_10.mat</td>\n",
       "      <td>test_1/1_10.mat</td>\n",
       "      <td>1</td>\n",
       "      <td>-1</td>\n",
       "      <td>0</td>\n",
       "      <td>1805838</td>\n",
       "      <td>1484367</td>\n",
       "      <td>216014</td>\n",
       "    </tr>\n",
       "    <tr>\n",
       "      <th>2</th>\n",
       "      <td>test_1</td>\n",
       "      <td>1_100.mat</td>\n",
       "      <td>test_1/1_100.mat</td>\n",
       "      <td>1</td>\n",
       "      <td>-1</td>\n",
       "      <td>0</td>\n",
       "      <td>1241170</td>\n",
       "      <td>1900609</td>\n",
       "      <td>284337</td>\n",
       "    </tr>\n",
       "    <tr>\n",
       "      <th>3</th>\n",
       "      <td>test_1</td>\n",
       "      <td>1_1000.mat</td>\n",
       "      <td>test_1/1_1000.mat</td>\n",
       "      <td>1</td>\n",
       "      <td>-1</td>\n",
       "      <td>0</td>\n",
       "      <td>1743604</td>\n",
       "      <td>1513067</td>\n",
       "      <td>231791</td>\n",
       "    </tr>\n",
       "    <tr>\n",
       "      <th>4</th>\n",
       "      <td>test_1</td>\n",
       "      <td>1_1001.mat</td>\n",
       "      <td>test_1/1_1001.mat</td>\n",
       "      <td>1</td>\n",
       "      <td>-1</td>\n",
       "      <td>0</td>\n",
       "      <td>2139217</td>\n",
       "      <td>1235885</td>\n",
       "      <td>187611</td>\n",
       "    </tr>\n",
       "  </tbody>\n",
       "</table>\n",
       "</div>"
      ],
      "text/plain": [
       "  dir_name   file_name               path  patient  preictal  train    pib_3  \\\n",
       "0   test_1     1_1.mat     test_1/1_1.mat        1        -1      0   848777   \n",
       "1   test_1    1_10.mat    test_1/1_10.mat        1        -1      0  1805838   \n",
       "2   test_1   1_100.mat   test_1/1_100.mat        1        -1      0  1241170   \n",
       "3   test_1  1_1000.mat  test_1/1_1000.mat        1        -1      0  1743604   \n",
       "4   test_1  1_1001.mat  test_1/1_1001.mat        1        -1      0  2139217   \n",
       "\n",
       "     pib_2   pib_1  \n",
       "0  1897922  511194  \n",
       "1  1484367  216014  \n",
       "2  1900609  284337  \n",
       "3  1513067  231791  \n",
       "4  1235885  187611  "
      ]
     },
     "execution_count": 3,
     "metadata": {},
     "output_type": "execute_result"
    }
   ],
   "source": [
    "files_df = pd.read_pickle('./processed_data/files_df.pkl')\n",
    "files_df.head()"
   ]
  },
  {
   "cell_type": "markdown",
   "metadata": {},
   "source": [
    "## Extract useful data"
   ]
  },
  {
   "cell_type": "code",
   "execution_count": 11,
   "metadata": {
    "collapsed": false
   },
   "outputs": [
    {
     "data": {
      "text/html": [
       "<div>\n",
       "<table border=\"1\" class=\"dataframe\">\n",
       "  <thead>\n",
       "    <tr style=\"text-align: right;\">\n",
       "      <th></th>\n",
       "      <th>patient</th>\n",
       "      <th>preictal</th>\n",
       "      <th>train</th>\n",
       "      <th>pib_3</th>\n",
       "      <th>pib_2</th>\n",
       "      <th>pib_1</th>\n",
       "    </tr>\n",
       "    <tr>\n",
       "      <th>file_name</th>\n",
       "      <th></th>\n",
       "      <th></th>\n",
       "      <th></th>\n",
       "      <th></th>\n",
       "      <th></th>\n",
       "      <th></th>\n",
       "    </tr>\n",
       "  </thead>\n",
       "  <tbody>\n",
       "    <tr>\n",
       "      <th>1_1.mat</th>\n",
       "      <td>1</td>\n",
       "      <td>-1</td>\n",
       "      <td>0</td>\n",
       "      <td>848777</td>\n",
       "      <td>1897922</td>\n",
       "      <td>511194</td>\n",
       "    </tr>\n",
       "    <tr>\n",
       "      <th>1_10.mat</th>\n",
       "      <td>1</td>\n",
       "      <td>-1</td>\n",
       "      <td>0</td>\n",
       "      <td>1805838</td>\n",
       "      <td>1484367</td>\n",
       "      <td>216014</td>\n",
       "    </tr>\n",
       "    <tr>\n",
       "      <th>1_100.mat</th>\n",
       "      <td>1</td>\n",
       "      <td>-1</td>\n",
       "      <td>0</td>\n",
       "      <td>1241170</td>\n",
       "      <td>1900609</td>\n",
       "      <td>284337</td>\n",
       "    </tr>\n",
       "    <tr>\n",
       "      <th>1_1000.mat</th>\n",
       "      <td>1</td>\n",
       "      <td>-1</td>\n",
       "      <td>0</td>\n",
       "      <td>1743604</td>\n",
       "      <td>1513067</td>\n",
       "      <td>231791</td>\n",
       "    </tr>\n",
       "    <tr>\n",
       "      <th>1_1001.mat</th>\n",
       "      <td>1</td>\n",
       "      <td>-1</td>\n",
       "      <td>0</td>\n",
       "      <td>2139217</td>\n",
       "      <td>1235885</td>\n",
       "      <td>187611</td>\n",
       "    </tr>\n",
       "  </tbody>\n",
       "</table>\n",
       "</div>"
      ],
      "text/plain": [
       "            patient  preictal  train    pib_3    pib_2   pib_1\n",
       "file_name                                                     \n",
       "1_1.mat           1        -1      0   848777  1897922  511194\n",
       "1_10.mat          1        -1      0  1805838  1484367  216014\n",
       "1_100.mat         1        -1      0  1241170  1900609  284337\n",
       "1_1000.mat        1        -1      0  1743604  1513067  231791\n",
       "1_1001.mat        1        -1      0  2139217  1235885  187611"
      ]
     },
     "execution_count": 11,
     "metadata": {},
     "output_type": "execute_result"
    }
   ],
   "source": [
    "meta_df = files_df.set_index('file_name')\n",
    "meta_df = meta_df.loc[:,'patient':]\n",
    "meta_df.head()"
   ]
  },
  {
   "cell_type": "code",
   "execution_count": 24,
   "metadata": {
    "collapsed": false
   },
   "outputs": [
    {
     "data": {
      "text/html": [
       "<div>\n",
       "<table border=\"1\" class=\"dataframe\">\n",
       "  <thead>\n",
       "    <tr style=\"text-align: right;\">\n",
       "      <th></th>\n",
       "      <th>patient</th>\n",
       "      <th>pib_3</th>\n",
       "      <th>pib_2</th>\n",
       "      <th>pib_1</th>\n",
       "    </tr>\n",
       "    <tr>\n",
       "      <th>file_name</th>\n",
       "      <th></th>\n",
       "      <th></th>\n",
       "      <th></th>\n",
       "      <th></th>\n",
       "    </tr>\n",
       "  </thead>\n",
       "  <tbody>\n",
       "    <tr>\n",
       "      <th>1_1000_0.mat</th>\n",
       "      <td>1</td>\n",
       "      <td>789192</td>\n",
       "      <td>2056416</td>\n",
       "      <td>481576</td>\n",
       "    </tr>\n",
       "    <tr>\n",
       "      <th>1_1001_0.mat</th>\n",
       "      <td>1</td>\n",
       "      <td>824351</td>\n",
       "      <td>1985675</td>\n",
       "      <td>485730</td>\n",
       "    </tr>\n",
       "    <tr>\n",
       "      <th>1_1002_0.mat</th>\n",
       "      <td>1</td>\n",
       "      <td>945059</td>\n",
       "      <td>2082889</td>\n",
       "      <td>396960</td>\n",
       "    </tr>\n",
       "    <tr>\n",
       "      <th>1_1003_0.mat</th>\n",
       "      <td>1</td>\n",
       "      <td>796860</td>\n",
       "      <td>2068275</td>\n",
       "      <td>432816</td>\n",
       "    </tr>\n",
       "    <tr>\n",
       "      <th>1_1004_0.mat</th>\n",
       "      <td>1</td>\n",
       "      <td>997601</td>\n",
       "      <td>1962371</td>\n",
       "      <td>409753</td>\n",
       "    </tr>\n",
       "  </tbody>\n",
       "</table>\n",
       "</div>"
      ],
      "text/plain": [
       "              patient   pib_3    pib_2   pib_1\n",
       "file_name                                     \n",
       "1_1000_0.mat        1  789192  2056416  481576\n",
       "1_1001_0.mat        1  824351  1985675  485730\n",
       "1_1002_0.mat        1  945059  2082889  396960\n",
       "1_1003_0.mat        1  796860  2068275  432816\n",
       "1_1004_0.mat        1  997601  1962371  409753"
      ]
     },
     "metadata": {},
     "output_type": "display_data"
    },
    {
     "data": {
      "text/plain": [
       "file_name\n",
       "1_1000_0.mat    0\n",
       "1_1001_0.mat    0\n",
       "1_1002_0.mat    0\n",
       "1_1003_0.mat    0\n",
       "1_1004_0.mat    0\n",
       "Name: preictal, dtype: int64"
      ]
     },
     "metadata": {},
     "output_type": "display_data"
    }
   ],
   "source": [
    "# Train data\n",
    "X_train = meta_df[meta_df['train']==1]\n",
    "y_train = meta_df[meta_df['train']==1]['preictal']\n",
    "X_train = X_train.drop(['train','preictal'], axis=1)\n",
    "display(X_train.head())\n",
    "display(y_train.head())"
   ]
  },
  {
   "cell_type": "code",
   "execution_count": 25,
   "metadata": {
    "collapsed": false
   },
   "outputs": [
    {
     "data": {
      "text/html": [
       "<div>\n",
       "<table border=\"1\" class=\"dataframe\">\n",
       "  <thead>\n",
       "    <tr style=\"text-align: right;\">\n",
       "      <th></th>\n",
       "      <th>patient</th>\n",
       "      <th>pib_3</th>\n",
       "      <th>pib_2</th>\n",
       "      <th>pib_1</th>\n",
       "    </tr>\n",
       "    <tr>\n",
       "      <th>file_name</th>\n",
       "      <th></th>\n",
       "      <th></th>\n",
       "      <th></th>\n",
       "      <th></th>\n",
       "    </tr>\n",
       "  </thead>\n",
       "  <tbody>\n",
       "    <tr>\n",
       "      <th>1_1.mat</th>\n",
       "      <td>1</td>\n",
       "      <td>848777</td>\n",
       "      <td>1897922</td>\n",
       "      <td>511194</td>\n",
       "    </tr>\n",
       "    <tr>\n",
       "      <th>1_10.mat</th>\n",
       "      <td>1</td>\n",
       "      <td>1805838</td>\n",
       "      <td>1484367</td>\n",
       "      <td>216014</td>\n",
       "    </tr>\n",
       "    <tr>\n",
       "      <th>1_100.mat</th>\n",
       "      <td>1</td>\n",
       "      <td>1241170</td>\n",
       "      <td>1900609</td>\n",
       "      <td>284337</td>\n",
       "    </tr>\n",
       "    <tr>\n",
       "      <th>1_1000.mat</th>\n",
       "      <td>1</td>\n",
       "      <td>1743604</td>\n",
       "      <td>1513067</td>\n",
       "      <td>231791</td>\n",
       "    </tr>\n",
       "    <tr>\n",
       "      <th>1_1001.mat</th>\n",
       "      <td>1</td>\n",
       "      <td>2139217</td>\n",
       "      <td>1235885</td>\n",
       "      <td>187611</td>\n",
       "    </tr>\n",
       "  </tbody>\n",
       "</table>\n",
       "</div>"
      ],
      "text/plain": [
       "            patient    pib_3    pib_2   pib_1\n",
       "file_name                                    \n",
       "1_1.mat           1   848777  1897922  511194\n",
       "1_10.mat          1  1805838  1484367  216014\n",
       "1_100.mat         1  1241170  1900609  284337\n",
       "1_1000.mat        1  1743604  1513067  231791\n",
       "1_1001.mat        1  2139217  1235885  187611"
      ]
     },
     "metadata": {},
     "output_type": "display_data"
    }
   ],
   "source": [
    "# Test data\n",
    "X_test = meta_df[meta_df['train']==0]\n",
    "X_test = X_test.drop(['train','preictal'], axis=1)\n",
    "display(X_test.head())"
   ]
  },
  {
   "cell_type": "markdown",
   "metadata": {},
   "source": [
    "## Define pipeline and cross validation model fitting"
   ]
  },
  {
   "cell_type": "code",
   "execution_count": 33,
   "metadata": {
    "collapsed": false
   },
   "outputs": [],
   "source": [
    "param_grid = {\n",
    "    'classify__loss': ['log'],\n",
    "    'classify__penalty': ['elasticnet'],\n",
    "    'classify__alpha': [10 ** x for x in range(-3, 1)],\n",
    "    'classify__l1_ratio': [0, 0.2, 0.8, 1],\n",
    "}\n",
    "\n",
    "pipeline = Pipeline(steps=[\n",
    "    ('imputer', Imputer()),    \n",
    "    ('standardize', StandardScaler()),\n",
    "    ('classify', SGDClassifier(random_state=0, class_weight='balanced'))\n",
    "])\n",
    "\n",
    "cv_pipeline =  GridSearchCV(estimator=pipeline, param_grid=param_grid, scoring='roc_auc')"
   ]
  },
  {
   "cell_type": "code",
   "execution_count": 34,
   "metadata": {
    "collapsed": false
   },
   "outputs": [
    {
     "name": "stdout",
     "output_type": "stream",
     "text": [
      "CPU times: user 2.21 s, sys: 35.1 ms, total: 2.24 s\n",
      "Wall time: 1.18 s\n"
     ]
    },
    {
     "data": {
      "text/plain": [
       "GridSearchCV(cv=None, error_score='raise',\n",
       "       estimator=Pipeline(steps=[('imputer', Imputer(axis=0, copy=True, missing_values='NaN', strategy='mean', verbose=0)), ('standardize', StandardScaler(copy=True, with_mean=True, with_std=True)), ('classify', SGDClassifier(alpha=0.0001, average=False, class_weight='balanced',\n",
       "       epsilon=0.1, eta0=0....     penalty='l2', power_t=0.5, random_state=0, shuffle=True, verbose=0,\n",
       "       warm_start=False))]),\n",
       "       fit_params={}, iid=True, n_jobs=1,\n",
       "       param_grid={'classify__l1_ratio': [0, 0.2, 0.8, 1], 'classify__loss': ['log'], 'classify__penalty': ['elasticnet'], 'classify__alpha': [0.001, 0.01, 0.1, 1]},\n",
       "       pre_dispatch='2*n_jobs', refit=True, return_train_score=True,\n",
       "       scoring='roc_auc', verbose=0)"
      ]
     },
     "execution_count": 34,
     "metadata": {},
     "output_type": "execute_result"
    }
   ],
   "source": [
    "%%time\n",
    "cv_pipeline.fit(X=X_train, y=y_train)"
   ]
  },
  {
   "cell_type": "code",
   "execution_count": 35,
   "metadata": {
    "collapsed": false
   },
   "outputs": [
    {
     "name": "stdout",
     "output_type": "stream",
     "text": [
      "62.666%\n",
      "{'classify__l1_ratio': 0.2, 'classify__loss': 'log', 'classify__penalty': 'elasticnet', 'classify__alpha': 0.1}\n"
     ]
    }
   ],
   "source": [
    "print('{:.3%}'.format(cv_pipeline.best_score_))\n",
    "print(cv_pipeline.best_params_)"
   ]
  },
  {
   "cell_type": "code",
   "execution_count": 89,
   "metadata": {
    "collapsed": false
   },
   "outputs": [
    {
     "data": {
      "text/html": [
       "<div>\n",
       "<table border=\"1\" class=\"dataframe\">\n",
       "  <thead>\n",
       "    <tr style=\"text-align: right;\">\n",
       "      <th></th>\n",
       "      <th>mean_fit_time</th>\n",
       "      <th>mean_score_time</th>\n",
       "      <th>mean_test_score</th>\n",
       "      <th>mean_train_score</th>\n",
       "      <th>param_classify__alpha</th>\n",
       "      <th>param_classify__l1_ratio</th>\n",
       "      <th>param_classify__loss</th>\n",
       "      <th>param_classify__penalty</th>\n",
       "      <th>params</th>\n",
       "      <th>rank_test_score</th>\n",
       "      <th>...</th>\n",
       "      <th>split2_test_score</th>\n",
       "      <th>split2_train_score</th>\n",
       "      <th>std_fit_time</th>\n",
       "      <th>std_score_time</th>\n",
       "      <th>std_test_score</th>\n",
       "      <th>std_train_score</th>\n",
       "      <th>classify__alpha</th>\n",
       "      <th>classify__l1_ratio</th>\n",
       "      <th>classify__loss</th>\n",
       "      <th>classify__penalty</th>\n",
       "    </tr>\n",
       "  </thead>\n",
       "  <tbody>\n",
       "    <tr>\n",
       "      <th>0</th>\n",
       "      <td>0.014374</td>\n",
       "      <td>0.002717</td>\n",
       "      <td>0.429794</td>\n",
       "      <td>0.583047</td>\n",
       "      <td>0.001</td>\n",
       "      <td>0</td>\n",
       "      <td>log</td>\n",
       "      <td>elasticnet</td>\n",
       "      <td>{'classify__l1_ratio': 0, 'classify__loss': 'l...</td>\n",
       "      <td>15</td>\n",
       "      <td>...</td>\n",
       "      <td>0.499124</td>\n",
       "      <td>0.612330</td>\n",
       "      <td>0.002139</td>\n",
       "      <td>0.000673</td>\n",
       "      <td>0.101997</td>\n",
       "      <td>0.084880</td>\n",
       "      <td>0.001</td>\n",
       "      <td>0.0</td>\n",
       "      <td>log</td>\n",
       "      <td>elasticnet</td>\n",
       "    </tr>\n",
       "    <tr>\n",
       "      <th>1</th>\n",
       "      <td>0.012741</td>\n",
       "      <td>0.001972</td>\n",
       "      <td>0.438850</td>\n",
       "      <td>0.588584</td>\n",
       "      <td>0.001</td>\n",
       "      <td>0.2</td>\n",
       "      <td>log</td>\n",
       "      <td>elasticnet</td>\n",
       "      <td>{'classify__l1_ratio': 0.2, 'classify__loss': ...</td>\n",
       "      <td>14</td>\n",
       "      <td>...</td>\n",
       "      <td>0.498544</td>\n",
       "      <td>0.612222</td>\n",
       "      <td>0.000350</td>\n",
       "      <td>0.000113</td>\n",
       "      <td>0.109617</td>\n",
       "      <td>0.075258</td>\n",
       "      <td>0.001</td>\n",
       "      <td>0.2</td>\n",
       "      <td>log</td>\n",
       "      <td>elasticnet</td>\n",
       "    </tr>\n",
       "  </tbody>\n",
       "</table>\n",
       "<p>2 rows × 24 columns</p>\n",
       "</div>"
      ],
      "text/plain": [
       "   mean_fit_time  mean_score_time  mean_test_score  mean_train_score  \\\n",
       "0       0.014374         0.002717         0.429794          0.583047   \n",
       "1       0.012741         0.001972         0.438850          0.588584   \n",
       "\n",
       "  param_classify__alpha param_classify__l1_ratio param_classify__loss  \\\n",
       "0                 0.001                        0                  log   \n",
       "1                 0.001                      0.2                  log   \n",
       "\n",
       "  param_classify__penalty                                             params  \\\n",
       "0              elasticnet  {'classify__l1_ratio': 0, 'classify__loss': 'l...   \n",
       "1              elasticnet  {'classify__l1_ratio': 0.2, 'classify__loss': ...   \n",
       "\n",
       "   rank_test_score        ...          split2_test_score  split2_train_score  \\\n",
       "0               15        ...                   0.499124            0.612330   \n",
       "1               14        ...                   0.498544            0.612222   \n",
       "\n",
       "   std_fit_time  std_score_time  std_test_score  std_train_score  \\\n",
       "0      0.002139        0.000673        0.101997         0.084880   \n",
       "1      0.000350        0.000113        0.109617         0.075258   \n",
       "\n",
       "   classify__alpha  classify__l1_ratio  classify__loss  classify__penalty  \n",
       "0            0.001                 0.0             log         elasticnet  \n",
       "1            0.001                 0.2             log         elasticnet  \n",
       "\n",
       "[2 rows x 24 columns]"
      ]
     },
     "execution_count": 89,
     "metadata": {},
     "output_type": "execute_result"
    }
   ],
   "source": [
    "cv_result_df = pd.concat([\n",
    "    pd.DataFrame(cv_pipeline.cv_results_),\n",
    "    pd.DataFrame.from_records(cv_pipeline.cv_results_['params']),\n",
    "], axis='columns')\n",
    "cv_result_df.head(2)"
   ]
  },
  {
   "cell_type": "code",
   "execution_count": 42,
   "metadata": {
    "collapsed": false
   },
   "outputs": [
    {
     "data": {
      "image/png": "[encoded data removed]",
      "text/plain": [
       "<matplotlib.figure.Figure at 0x11b55d8d0>"
      ]
     },
     "metadata": {},
     "output_type": "display_data"
    }
   ],
   "source": [
    "# Cross-validated performance heatmap\n",
    "ax = plt.figure()\n",
    "cv_score_mat = pd.pivot_table(cv_result_df, values='mean_test_score', index='classify__l1_ratio', columns='classify__alpha')\n",
    "\n",
    "ax = sns.heatmap(cv_score_mat, annot=True, fmt='.1%')\n",
    "ax.set_xlabel('Regularization strength multiplier (alpha)')\n",
    "ax.set_ylabel('Elastic net mix param (l1_ratio)');"
   ]
  },
  {
   "cell_type": "markdown",
   "metadata": {},
   "source": [
    "## Use Optimal Hyperparameters to Output ROC Curve"
   ]
  },
  {
   "cell_type": "code",
   "execution_count": 44,
   "metadata": {
    "collapsed": true
   },
   "outputs": [],
   "source": [
    "def get_threshold_metrics(y_true, y_pred):\n",
    "    roc_columns = ['fpr', 'tpr', 'threshold']\n",
    "    roc_items = zip(roc_columns, roc_curve(y_true, y_pred))\n",
    "    roc_df = pd.DataFrame.from_items(roc_items)\n",
    "    auroc = roc_auc_score(y_true, y_pred)\n",
    "    return {'auroc': auroc, 'roc_df': roc_df}\n",
    "\n",
    "y_pred_train = cv_pipeline.decision_function(X_train)\n",
    "metrics_train = get_threshold_metrics(y_train, y_pred_train)"
   ]
  },
  {
   "cell_type": "code",
   "execution_count": 46,
   "metadata": {
    "collapsed": false
   },
   "outputs": [
    {
     "data": {
      "image/png": "[encoded data removed]",
      "text/plain": [
       "<matplotlib.figure.Figure at 0x11b7e4828>"
      ]
     },
     "metadata": {},
     "output_type": "display_data"
    }
   ],
   "source": [
    "roc_df = metrics_train['roc_df']\n",
    "plt.plot(roc_df.fpr, roc_df.tpr,\n",
    "label='{} (AUROC = {:.1%})'.format('training', metrics_train['auroc']))\n",
    "plt.xlim([0.0, 1.0])\n",
    "plt.ylim([0.0, 1.05])\n",
    "plt.xlabel('False Positive Rate')\n",
    "plt.ylabel('True Positive Rate')\n",
    "plt.title('Predicting TP53 mutation from gene expression (ROC curves)')\n",
    "plt.legend(loc='lower right');"
   ]
  },
  {
   "cell_type": "markdown",
   "metadata": {},
   "source": [
    "## Predict test ictal status and save as csv"
   ]
  },
  {
   "cell_type": "code",
   "execution_count": 90,
   "metadata": {
    "collapsed": false
   },
   "outputs": [
    {
     "data": {
      "text/html": [
       "<div>\n",
       "<table border=\"1\" class=\"dataframe\">\n",
       "  <thead>\n",
       "    <tr style=\"text-align: right;\">\n",
       "      <th></th>\n",
       "      <th>File</th>\n",
       "      <th>Class</th>\n",
       "    </tr>\n",
       "  </thead>\n",
       "  <tbody>\n",
       "    <tr>\n",
       "      <th>0</th>\n",
       "      <td>1_1.mat</td>\n",
       "      <td>0</td>\n",
       "    </tr>\n",
       "    <tr>\n",
       "      <th>1</th>\n",
       "      <td>1_10.mat</td>\n",
       "      <td>1</td>\n",
       "    </tr>\n",
       "    <tr>\n",
       "      <th>2</th>\n",
       "      <td>1_100.mat</td>\n",
       "      <td>0</td>\n",
       "    </tr>\n",
       "    <tr>\n",
       "      <th>3</th>\n",
       "      <td>1_1000.mat</td>\n",
       "      <td>1</td>\n",
       "    </tr>\n",
       "    <tr>\n",
       "      <th>4</th>\n",
       "      <td>1_1001.mat</td>\n",
       "      <td>1</td>\n",
       "    </tr>\n",
       "  </tbody>\n",
       "</table>\n",
       "</div>"
      ],
      "text/plain": [
       "         File  Class\n",
       "0     1_1.mat      0\n",
       "1    1_10.mat      1\n",
       "2   1_100.mat      0\n",
       "3  1_1000.mat      1\n",
       "4  1_1001.mat      1"
      ]
     },
     "execution_count": 90,
     "metadata": {},
     "output_type": "execute_result"
    }
   ],
   "source": [
    "y_pred_test = cv_pipeline.predict(X_test)\n",
    "output_df = pd.DataFrame({'File':X_test.index.values, 'Class': y_pred_test})\n",
    "output_df = output_df[['File','Class']]\n",
    "output_df.to_csv('./submissions/submission_4.csv',index=False)\n",
    "output_df.head()"
   ]
  },
  {
   "cell_type": "code",
   "execution_count": null,
   "metadata": {
    "collapsed": true
   },
   "outputs": [],
   "source": []
  }
 ],
 "metadata": {
  "kernelspec": {
   "display_name": "Python 3",
   "language": "python",
   "name": "python3"
  },
  "language_info": {
   "codemirror_mode": {
    "name": "ipython",
    "version": 3
   },
   "file_extension": ".py",
   "mimetype": "text/x-python",
   "name": "python",
   "nbconvert_exporter": "python",
   "pygments_lexer": "ipython3",
   "version": "3.5.2"
  }
 },
 "nbformat": 4,
 "nbformat_minor": 0
}
