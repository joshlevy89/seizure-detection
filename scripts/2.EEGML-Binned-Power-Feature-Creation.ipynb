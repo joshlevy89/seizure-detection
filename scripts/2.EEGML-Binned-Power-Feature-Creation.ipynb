{
 "cells": [
  {
   "cell_type": "markdown",
   "metadata": {},
   "source": [
    "# Create compute the binned power feature for each file"
   ]
  },
  {
   "cell_type": "code",
   "execution_count": 1,
   "metadata": {
    "collapsed": false
   },
   "outputs": [],
   "source": [
    "import pandas as pd\n",
    "import numpy as np\n",
    "import matplotlib.pyplot as plt\n",
    "from IPython.display import display\n",
    "import seaborn as sns\n",
    "plt.style.use('seaborn-notebook')\n",
    "from utils import eegml_data_load, generate_features\n",
    "%matplotlib inline"
   ]
  },
  {
   "cell_type": "markdown",
   "metadata": {},
   "source": [
    "## Make a dataframe of file meta data"
   ]
  },
  {
   "cell_type": "code",
   "execution_count": 2,
   "metadata": {
    "collapsed": false
   },
   "outputs": [
    {
     "data": {
      "text/html": [
       "<div>\n",
       "<table border=\"1\" class=\"dataframe\">\n",
       "  <thead>\n",
       "    <tr style=\"text-align: right;\">\n",
       "      <th></th>\n",
       "      <th>dir_name</th>\n",
       "      <th>file_name</th>\n",
       "      <th>path</th>\n",
       "      <th>patient</th>\n",
       "      <th>preictal</th>\n",
       "      <th>train</th>\n",
       "      <th>file_id</th>\n",
       "    </tr>\n",
       "  </thead>\n",
       "  <tbody>\n",
       "    <tr>\n",
       "      <th>0</th>\n",
       "      <td>test_1_new</td>\n",
       "      <td>new_1_1.mat</td>\n",
       "      <td>test_1_new/new_1_1.mat</td>\n",
       "      <td>1</td>\n",
       "      <td>-1</td>\n",
       "      <td>0</td>\n",
       "      <td>0</td>\n",
       "    </tr>\n",
       "    <tr>\n",
       "      <th>1</th>\n",
       "      <td>test_1_new</td>\n",
       "      <td>new_1_10.mat</td>\n",
       "      <td>test_1_new/new_1_10.mat</td>\n",
       "      <td>1</td>\n",
       "      <td>-1</td>\n",
       "      <td>0</td>\n",
       "      <td>1</td>\n",
       "    </tr>\n",
       "    <tr>\n",
       "      <th>2</th>\n",
       "      <td>test_1_new</td>\n",
       "      <td>new_1_100.mat</td>\n",
       "      <td>test_1_new/new_1_100.mat</td>\n",
       "      <td>1</td>\n",
       "      <td>-1</td>\n",
       "      <td>0</td>\n",
       "      <td>2</td>\n",
       "    </tr>\n",
       "    <tr>\n",
       "      <th>3</th>\n",
       "      <td>test_1_new</td>\n",
       "      <td>new_1_101.mat</td>\n",
       "      <td>test_1_new/new_1_101.mat</td>\n",
       "      <td>1</td>\n",
       "      <td>-1</td>\n",
       "      <td>0</td>\n",
       "      <td>3</td>\n",
       "    </tr>\n",
       "    <tr>\n",
       "      <th>4</th>\n",
       "      <td>test_1_new</td>\n",
       "      <td>new_1_102.mat</td>\n",
       "      <td>test_1_new/new_1_102.mat</td>\n",
       "      <td>1</td>\n",
       "      <td>-1</td>\n",
       "      <td>0</td>\n",
       "      <td>4</td>\n",
       "    </tr>\n",
       "  </tbody>\n",
       "</table>\n",
       "</div>"
      ],
      "text/plain": [
       "     dir_name      file_name                      path  patient  preictal  \\\n",
       "0  test_1_new    new_1_1.mat    test_1_new/new_1_1.mat        1        -1   \n",
       "1  test_1_new   new_1_10.mat   test_1_new/new_1_10.mat        1        -1   \n",
       "2  test_1_new  new_1_100.mat  test_1_new/new_1_100.mat        1        -1   \n",
       "3  test_1_new  new_1_101.mat  test_1_new/new_1_101.mat        1        -1   \n",
       "4  test_1_new  new_1_102.mat  test_1_new/new_1_102.mat        1        -1   \n",
       "\n",
       "   train  file_id  \n",
       "0      0        0  \n",
       "1      0        1  \n",
       "2      0        2  \n",
       "3      0        3  \n",
       "4      0        4  "
      ]
     },
     "execution_count": 2,
     "metadata": {},
     "output_type": "execute_result"
    }
   ],
   "source": [
    "files_df = eegml_data_load.create_files_df()\n",
    "files_df.head()"
   ]
  },
  {
   "cell_type": "code",
   "execution_count": 3,
   "metadata": {
    "collapsed": false
   },
   "outputs": [
    {
     "name": "stdout",
     "output_type": "stream",
     "text": [
      "0 1 CPU times: user 1.56 s, sys: 901 ms, total: 2.46 s\n",
      "Wall time: 2.75 s\n"
     ]
    }
   ],
   "source": [
    "%%time\n",
    "num_files = 2#files_df.shape[0]\n",
    "bin_size = 200 # number of bins to average over\n",
    "    \n",
    "bin_norm_power_mat = []\n",
    "for i,file in files_df[0:num_files].iterrows():\n",
    "    print(str(i)+str(\" \"), end=\"\")\n",
    "    \n",
    "    # Normalize and bin power spectra.\n",
    "    bin_norm_power = generate_features.normalize_and_bin_power_spectra(file, bin_size)\n",
    "    \n",
    "    # Concatenate result.\n",
    "    bin_norm_power_mat.append(bin_norm_power)"
   ]
  },
  {
   "cell_type": "code",
   "execution_count": 5,
   "metadata": {
    "collapsed": false
   },
   "outputs": [
    {
     "ename": "NameError",
     "evalue": "name 'bin_norm_inter_power_mat' is not defined",
     "output_type": "error",
     "traceback": [
      "\u001b[0;31m---------------------------------------------------------------------------\u001b[0m",
      "\u001b[0;31mNameError\u001b[0m                                 Traceback (most recent call last)",
      "\u001b[0;32m<ipython-input-5-cc166381cd3b>\u001b[0m in \u001b[0;36m<module>\u001b[0;34m()\u001b[0m\n\u001b[1;32m      1\u001b[0m \u001b[0mbin_norm_power_mat\u001b[0m \u001b[0;34m=\u001b[0m \u001b[0mnp\u001b[0m\u001b[0;34m.\u001b[0m\u001b[0marray\u001b[0m\u001b[0;34m(\u001b[0m\u001b[0;34m[\u001b[0m\u001b[0mitem\u001b[0m \u001b[0;32mfor\u001b[0m \u001b[0msublist\u001b[0m \u001b[0;32min\u001b[0m \u001b[0mbin_norm_power_mat\u001b[0m \u001b[0;32mfor\u001b[0m \u001b[0mitem\u001b[0m \u001b[0;32min\u001b[0m \u001b[0msublist\u001b[0m\u001b[0;34m]\u001b[0m\u001b[0;34m)\u001b[0m\u001b[0;34m\u001b[0m\u001b[0m\n\u001b[1;32m      2\u001b[0m \u001b[0mbin_norm_power_mat\u001b[0m\u001b[0;34m.\u001b[0m\u001b[0mshape\u001b[0m\u001b[0;34m\u001b[0m\u001b[0m\n\u001b[0;32m----> 3\u001b[0;31m \u001b[0mnp\u001b[0m\u001b[0;34m.\u001b[0m\u001b[0msave\u001b[0m\u001b[0;34m(\u001b[0m\u001b[0;34m'../processed_data/bin_norm_power_mat.npy'\u001b[0m\u001b[0;34m,\u001b[0m \u001b[0mbin_norm_inter_power_mat\u001b[0m\u001b[0;34m)\u001b[0m\u001b[0;34m\u001b[0m\u001b[0m\n\u001b[0m",
      "\u001b[0;31mNameError\u001b[0m: name 'bin_norm_inter_power_mat' is not defined"
     ]
    }
   ],
   "source": [
    "bin_norm_power_mat = np.array([item for sublist in bin_norm_power_mat for item in sublist])\n",
    "bin_norm_power_mat.shape\n",
    "np.save('../processed_data/bin_norm_power_mat.npy', bin_norm_power_mat)"
   ]
  }
 ],
 "metadata": {
  "kernelspec": {
   "display_name": "Python 3",
   "language": "python",
   "name": "python3"
  },
  "language_info": {
   "codemirror_mode": {
    "name": "ipython",
    "version": 3
   },
   "file_extension": ".py",
   "mimetype": "text/x-python",
   "name": "python",
   "nbconvert_exporter": "python",
   "pygments_lexer": "ipython3",
   "version": "3.5.2"
  }
 },
 "nbformat": 4,
 "nbformat_minor": 0
}
