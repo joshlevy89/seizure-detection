{
 "cells": [
  {
   "cell_type": "markdown",
   "metadata": {},
   "source": [
    "# Create compute the binned power feature for each file"
   ]
  },
  {
   "cell_type": "code",
   "execution_count": 4,
   "metadata": {
    "collapsed": false
   },
   "outputs": [],
   "source": [
    "import pandas as pd\n",
    "import numpy as np\n",
    "import matplotlib.pyplot as plt\n",
    "from IPython.display import display\n",
    "import seaborn as sns\n",
    "plt.style.use('seaborn-notebook')\n",
    "from utils import create_files_df, load_power_data, normalize_and_bin_power_spectra\n",
    "%matplotlib inline"
   ]
  },
  {
   "cell_type": "markdown",
   "metadata": {},
   "source": [
    "## Make a dataframe of file meta data"
   ]
  },
  {
   "cell_type": "code",
   "execution_count": 2,
   "metadata": {
    "collapsed": false
   },
   "outputs": [
    {
     "data": {
      "text/html": [
       "<div>\n",
       "<table border=\"1\" class=\"dataframe\">\n",
       "  <thead>\n",
       "    <tr style=\"text-align: right;\">\n",
       "      <th></th>\n",
       "      <th>dir_name</th>\n",
       "      <th>file_name</th>\n",
       "      <th>path</th>\n",
       "      <th>patient</th>\n",
       "      <th>preictal</th>\n",
       "      <th>train</th>\n",
       "      <th>file_id</th>\n",
       "    </tr>\n",
       "  </thead>\n",
       "  <tbody>\n",
       "    <tr>\n",
       "      <th>0</th>\n",
       "      <td>test_1_new</td>\n",
       "      <td>new_1_1.mat</td>\n",
       "      <td>test_1_new/new_1_1.mat</td>\n",
       "      <td>1</td>\n",
       "      <td>-1</td>\n",
       "      <td>0</td>\n",
       "      <td>0</td>\n",
       "    </tr>\n",
       "    <tr>\n",
       "      <th>1</th>\n",
       "      <td>test_1_new</td>\n",
       "      <td>new_1_10.mat</td>\n",
       "      <td>test_1_new/new_1_10.mat</td>\n",
       "      <td>1</td>\n",
       "      <td>-1</td>\n",
       "      <td>0</td>\n",
       "      <td>1</td>\n",
       "    </tr>\n",
       "    <tr>\n",
       "      <th>2</th>\n",
       "      <td>test_1_new</td>\n",
       "      <td>new_1_100.mat</td>\n",
       "      <td>test_1_new/new_1_100.mat</td>\n",
       "      <td>1</td>\n",
       "      <td>-1</td>\n",
       "      <td>0</td>\n",
       "      <td>2</td>\n",
       "    </tr>\n",
       "    <tr>\n",
       "      <th>3</th>\n",
       "      <td>test_1_new</td>\n",
       "      <td>new_1_101.mat</td>\n",
       "      <td>test_1_new/new_1_101.mat</td>\n",
       "      <td>1</td>\n",
       "      <td>-1</td>\n",
       "      <td>0</td>\n",
       "      <td>3</td>\n",
       "    </tr>\n",
       "    <tr>\n",
       "      <th>4</th>\n",
       "      <td>test_1_new</td>\n",
       "      <td>new_1_102.mat</td>\n",
       "      <td>test_1_new/new_1_102.mat</td>\n",
       "      <td>1</td>\n",
       "      <td>-1</td>\n",
       "      <td>0</td>\n",
       "      <td>4</td>\n",
       "    </tr>\n",
       "  </tbody>\n",
       "</table>\n",
       "</div>"
      ],
      "text/plain": [
       "     dir_name      file_name                      path  patient  preictal  \\\n",
       "0  test_1_new    new_1_1.mat    test_1_new/new_1_1.mat        1        -1   \n",
       "1  test_1_new   new_1_10.mat   test_1_new/new_1_10.mat        1        -1   \n",
       "2  test_1_new  new_1_100.mat  test_1_new/new_1_100.mat        1        -1   \n",
       "3  test_1_new  new_1_101.mat  test_1_new/new_1_101.mat        1        -1   \n",
       "4  test_1_new  new_1_102.mat  test_1_new/new_1_102.mat        1        -1   \n",
       "\n",
       "   train  file_id  \n",
       "0      0        0  \n",
       "1      0        1  \n",
       "2      0        2  \n",
       "3      0        3  \n",
       "4      0        4  "
      ]
     },
     "execution_count": 2,
     "metadata": {},
     "output_type": "execute_result"
    }
   ],
   "source": [
    "files_df = create_files_df()\n",
    "files_df.head()"
   ]
  },
  {
   "cell_type": "code",
   "execution_count": 21,
   "metadata": {
    "collapsed": false
   },
   "outputs": [
    {
     "name": "stdout",
     "output_type": "stream",
     "text": [
      "0 1 2 3 4 CPU times: user 218 ms, sys: 38.6 ms, total: 256 ms\n",
      "Wall time: 258 ms\n"
     ]
    }
   ],
   "source": [
    "%%time\n",
    "num_files = files_df.shape[0]\n",
    "bin_size = 200 # number of bins to average over\n",
    "    \n",
    "bin_norm_power_mat = []\n",
    "for i,file in files_df[0:num_files].iterrows():\n",
    "    print(str(i)+str(\" \"), end=\"\")\n",
    "        \n",
    "    # Load power data.\n",
    "    freq, power = load_power_data(file['path'])\n",
    "    \n",
    "    # Handle corrupt file.\n",
    "    if power.size == []: \n",
    "        bin_norm_power_mat.append([])\n",
    "        continue\n",
    "    \n",
    "    # Normalize and bin power spectra.\n",
    "    bin_norm_power = normalize_and_bin_power_spectra(power, bin_size)\n",
    "    \n",
    "    # Concatenate result.\n",
    "    bin_norm_power_mat.append(bin_norm_power)\n",
    "\n",
    "bin_norm_power_mat = np.array([item for sublist in bin_norm_power_mat for item in sublist])"
   ]
  },
  {
   "cell_type": "code",
   "execution_count": null,
   "metadata": {
    "collapsed": true
   },
   "outputs": [],
   "source": []
  }
 ],
 "metadata": {
  "kernelspec": {
   "display_name": "Python 3",
   "language": "python",
   "name": "python3"
  },
  "language_info": {
   "codemirror_mode": {
    "name": "ipython",
    "version": 3
   },
   "file_extension": ".py",
   "mimetype": "text/x-python",
   "name": "python",
   "nbconvert_exporter": "python",
   "pygments_lexer": "ipython3",
   "version": "3.5.2"
  }
 },
 "nbformat": 4,
 "nbformat_minor": 0
}
