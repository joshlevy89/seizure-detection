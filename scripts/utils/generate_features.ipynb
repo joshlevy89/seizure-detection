{
 "cells": [
  {
   "cell_type": "code",
   "execution_count": 1,
   "metadata": {
    "collapsed": false
   },
   "outputs": [],
   "source": [
    "import os\n",
    "import numpy as np\n",
    "import pandas as pd\n",
    "from joblib import Memory\n",
    "import sys\n",
    "sys.path.append(os.getcwd()+'/utils/')\n",
    "import eegml_data_load"
   ]
  },
  {
   "cell_type": "code",
   "execution_count": 18,
   "metadata": {
    "collapsed": true
   },
   "outputs": [],
   "source": [
    "cache_directory = './cache'\n",
    "mem = Memory(cachedir=cache_directory, verbose=0)\n",
    "\n",
    "@mem.cache\n",
    "def normalize_and_bin_power_spectra(file, bin_size):\n",
    "\n",
    "    # Load power data.\n",
    "    freq, power = eegml_data_load.load_power_data(file['path'])\n",
    "\n",
    "    # Handle corrupt file.\n",
    "    if power.size == []: \n",
    "        return []\n",
    "\n",
    "    def bin_power(x,bin_size):\n",
    "        return np.sum(x.reshape(-1, bin_size), axis=1)\n",
    "\n",
    "    # Normalize power spectra.\n",
    "    norm_power = (power.T/power.sum(axis=1)).T\n",
    "\n",
    "    # Bin normalized power spectra. \n",
    "    num_channels = power.shape[0]\n",
    "    bin_norm_power = np.array([bin_power(norm_power[i,:], bin_size) for i in np.arange(num_channels)])\n",
    "\n",
    "    return bin_norm_power"
   ]
  },
  {
   "cell_type": "code",
   "execution_count": null,
   "metadata": {
    "collapsed": true
   },
   "outputs": [],
   "source": []
  }
 ],
 "metadata": {
  "kernelspec": {
   "display_name": "Python 3",
   "language": "python",
   "name": "python3"
  },
  "language_info": {
   "codemirror_mode": {
    "name": "ipython",
    "version": 3
   },
   "file_extension": ".py",
   "mimetype": "text/x-python",
   "name": "python",
   "nbconvert_exporter": "python",
   "pygments_lexer": "ipython3",
   "version": "3.5.2"
  }
 },
 "nbformat": 4,
 "nbformat_minor": 0
}
