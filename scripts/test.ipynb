{
 "cells": [
  {
   "cell_type": "code",
   "execution_count": 1,
   "metadata": {
    "collapsed": false
   },
   "outputs": [],
   "source": [
    "from utils import eegml_data_load"
   ]
  },
  {
   "cell_type": "code",
   "execution_count": 2,
   "metadata": {
    "collapsed": false
   },
   "outputs": [
    {
     "data": {
      "text/html": [
       "<div>\n",
       "<table border=\"1\" class=\"dataframe\">\n",
       "  <thead>\n",
       "    <tr style=\"text-align: right;\">\n",
       "      <th></th>\n",
       "      <th>dir_name</th>\n",
       "      <th>file_name</th>\n",
       "      <th>path</th>\n",
       "      <th>patient</th>\n",
       "      <th>preictal</th>\n",
       "      <th>train</th>\n",
       "      <th>file_id</th>\n",
       "    </tr>\n",
       "  </thead>\n",
       "  <tbody>\n",
       "    <tr>\n",
       "      <th>0</th>\n",
       "      <td>test_1_new</td>\n",
       "      <td>new_1_1.mat</td>\n",
       "      <td>test_1_new/new_1_1.mat</td>\n",
       "      <td>1</td>\n",
       "      <td>-1</td>\n",
       "      <td>0</td>\n",
       "      <td>0</td>\n",
       "    </tr>\n",
       "    <tr>\n",
       "      <th>1</th>\n",
       "      <td>test_1_new</td>\n",
       "      <td>new_1_10.mat</td>\n",
       "      <td>test_1_new/new_1_10.mat</td>\n",
       "      <td>1</td>\n",
       "      <td>-1</td>\n",
       "      <td>0</td>\n",
       "      <td>1</td>\n",
       "    </tr>\n",
       "    <tr>\n",
       "      <th>2</th>\n",
       "      <td>test_1_new</td>\n",
       "      <td>new_1_100.mat</td>\n",
       "      <td>test_1_new/new_1_100.mat</td>\n",
       "      <td>1</td>\n",
       "      <td>-1</td>\n",
       "      <td>0</td>\n",
       "      <td>2</td>\n",
       "    </tr>\n",
       "    <tr>\n",
       "      <th>3</th>\n",
       "      <td>test_1_new</td>\n",
       "      <td>new_1_101.mat</td>\n",
       "      <td>test_1_new/new_1_101.mat</td>\n",
       "      <td>1</td>\n",
       "      <td>-1</td>\n",
       "      <td>0</td>\n",
       "      <td>3</td>\n",
       "    </tr>\n",
       "    <tr>\n",
       "      <th>4</th>\n",
       "      <td>test_1_new</td>\n",
       "      <td>new_1_102.mat</td>\n",
       "      <td>test_1_new/new_1_102.mat</td>\n",
       "      <td>1</td>\n",
       "      <td>-1</td>\n",
       "      <td>0</td>\n",
       "      <td>4</td>\n",
       "    </tr>\n",
       "  </tbody>\n",
       "</table>\n",
       "</div>"
      ],
      "text/plain": [
       "     dir_name      file_name                      path  patient  preictal  \\\n",
       "0  test_1_new    new_1_1.mat    test_1_new/new_1_1.mat        1        -1   \n",
       "1  test_1_new   new_1_10.mat   test_1_new/new_1_10.mat        1        -1   \n",
       "2  test_1_new  new_1_100.mat  test_1_new/new_1_100.mat        1        -1   \n",
       "3  test_1_new  new_1_101.mat  test_1_new/new_1_101.mat        1        -1   \n",
       "4  test_1_new  new_1_102.mat  test_1_new/new_1_102.mat        1        -1   \n",
       "\n",
       "   train  file_id  \n",
       "0      0        0  \n",
       "1      0        1  \n",
       "2      0        2  \n",
       "3      0        3  \n",
       "4      0        4  "
      ]
     },
     "execution_count": 2,
     "metadata": {},
     "output_type": "execute_result"
    }
   ],
   "source": [
    "files_df = eegml_data_load.create_files_df()\n",
    "files_df.head()"
   ]
  },
  {
   "cell_type": "code",
   "execution_count": null,
   "metadata": {
    "collapsed": true
   },
   "outputs": [],
   "source": []
  }
 ],
 "metadata": {
  "kernelspec": {
   "display_name": "Python 3",
   "language": "python",
   "name": "python3"
  },
  "language_info": {
   "codemirror_mode": {
    "name": "ipython",
    "version": 3
   },
   "file_extension": ".py",
   "mimetype": "text/x-python",
   "name": "python",
   "nbconvert_exporter": "python",
   "pygments_lexer": "ipython3",
   "version": "3.5.2"
  }
 },
 "nbformat": 4,
 "nbformat_minor": 0
}
