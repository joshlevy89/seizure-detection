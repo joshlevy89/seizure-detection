{
 "cells": [
  {
   "cell_type": "markdown",
   "metadata": {},
   "source": [
    "# Fit and predict using pib features and logistic regression"
   ]
  },
  {
   "cell_type": "code",
   "execution_count": 9,
   "metadata": {
    "collapsed": false
   },
   "outputs": [],
   "source": [
    "import pandas as pd\n",
    "import numpy as np\n",
    "import matplotlib.pyplot as plt\n",
    "import seaborn as sns\n",
    "from IPython.display import display\n",
    "from sklearn import preprocessing\n",
    "from sklearn.linear_model import SGDClassifier\n",
    "from sklearn.model_selection import train_test_split, GridSearchCV\n",
    "from sklearn.metrics import roc_auc_score, roc_curve\n",
    "from sklearn.pipeline import Pipeline\n",
    "from sklearn.preprocessing import StandardScaler, Imputer\n",
    "from sklearn.feature_selection import SelectKBest\n",
    "%matplotlib inline\n",
    "plt.style.use('seaborn-notebook')"
   ]
  },
  {
   "cell_type": "markdown",
   "metadata": {},
   "source": [
    "## Load data "
   ]
  },
  {
   "cell_type": "code",
   "execution_count": 10,
   "metadata": {
    "collapsed": false
   },
   "outputs": [
    {
     "data": {
      "text/html": [
       "<div>\n",
       "<table border=\"1\" class=\"dataframe\">\n",
       "  <thead>\n",
       "    <tr style=\"text-align: right;\">\n",
       "      <th></th>\n",
       "      <th>dir_name</th>\n",
       "      <th>file_name</th>\n",
       "      <th>path</th>\n",
       "      <th>patient</th>\n",
       "      <th>preictal</th>\n",
       "      <th>train</th>\n",
       "      <th>file_id</th>\n",
       "      <th>pib_0</th>\n",
       "      <th>pib_1</th>\n",
       "      <th>pib_2</th>\n",
       "      <th>pib_3</th>\n",
       "      <th>pib_4</th>\n",
       "      <th>pib_5</th>\n",
       "      <th>pib_6</th>\n",
       "    </tr>\n",
       "  </thead>\n",
       "  <tbody>\n",
       "    <tr>\n",
       "      <th>0</th>\n",
       "      <td>test_1</td>\n",
       "      <td>1_1.mat</td>\n",
       "      <td>test_1/1_1.mat</td>\n",
       "      <td>1</td>\n",
       "      <td>-1</td>\n",
       "      <td>0</td>\n",
       "      <td>0</td>\n",
       "      <td>0.0870125</td>\n",
       "      <td>0.148382</td>\n",
       "      <td>0.0865826</td>\n",
       "      <td>0.0352896</td>\n",
       "      <td>0.0140147</td>\n",
       "      <td>0.00566536</td>\n",
       "      <td>0.00237758</td>\n",
       "    </tr>\n",
       "    <tr>\n",
       "      <th>1</th>\n",
       "      <td>test_1</td>\n",
       "      <td>1_10.mat</td>\n",
       "      <td>test_1/1_10.mat</td>\n",
       "      <td>1</td>\n",
       "      <td>-1</td>\n",
       "      <td>0</td>\n",
       "      <td>1</td>\n",
       "      <td>0.063977</td>\n",
       "      <td>0.0664608</td>\n",
       "      <td>0.0417149</td>\n",
       "      <td>0.0209176</td>\n",
       "      <td>0.00903446</td>\n",
       "      <td>0.00252979</td>\n",
       "      <td>0.000989945</td>\n",
       "    </tr>\n",
       "    <tr>\n",
       "      <th>2</th>\n",
       "      <td>test_1</td>\n",
       "      <td>1_100.mat</td>\n",
       "      <td>test_1/1_100.mat</td>\n",
       "      <td>1</td>\n",
       "      <td>-1</td>\n",
       "      <td>0</td>\n",
       "      <td>2</td>\n",
       "      <td>0.0709713</td>\n",
       "      <td>0.0849516</td>\n",
       "      <td>0.0540641</td>\n",
       "      <td>0.0274327</td>\n",
       "      <td>0.0121224</td>\n",
       "      <td>0.00349053</td>\n",
       "      <td>0.00142651</td>\n",
       "    </tr>\n",
       "    <tr>\n",
       "      <th>3</th>\n",
       "      <td>test_1</td>\n",
       "      <td>1_1000.mat</td>\n",
       "      <td>test_1/1_1000.mat</td>\n",
       "      <td>1</td>\n",
       "      <td>-1</td>\n",
       "      <td>0</td>\n",
       "      <td>3</td>\n",
       "      <td>0.0622139</td>\n",
       "      <td>0.0757878</td>\n",
       "      <td>0.047305</td>\n",
       "      <td>0.0226988</td>\n",
       "      <td>0.00971447</td>\n",
       "      <td>0.00269937</td>\n",
       "      <td>0.00105272</td>\n",
       "    </tr>\n",
       "    <tr>\n",
       "      <th>4</th>\n",
       "      <td>test_1</td>\n",
       "      <td>1_1001.mat</td>\n",
       "      <td>test_1/1_1001.mat</td>\n",
       "      <td>1</td>\n",
       "      <td>-1</td>\n",
       "      <td>0</td>\n",
       "      <td>4</td>\n",
       "      <td>0.0588816</td>\n",
       "      <td>0.0469657</td>\n",
       "      <td>0.0312127</td>\n",
       "      <td>0.0159075</td>\n",
       "      <td>0.00730864</td>\n",
       "      <td>0.00202842</td>\n",
       "      <td>0.000777936</td>\n",
       "    </tr>\n",
       "  </tbody>\n",
       "</table>\n",
       "</div>"
      ],
      "text/plain": [
       "  dir_name   file_name               path patient preictal train file_id  \\\n",
       "0   test_1     1_1.mat     test_1/1_1.mat       1       -1     0       0   \n",
       "1   test_1    1_10.mat    test_1/1_10.mat       1       -1     0       1   \n",
       "2   test_1   1_100.mat   test_1/1_100.mat       1       -1     0       2   \n",
       "3   test_1  1_1000.mat  test_1/1_1000.mat       1       -1     0       3   \n",
       "4   test_1  1_1001.mat  test_1/1_1001.mat       1       -1     0       4   \n",
       "\n",
       "       pib_0      pib_1      pib_2      pib_3       pib_4       pib_5  \\\n",
       "0  0.0870125   0.148382  0.0865826  0.0352896   0.0140147  0.00566536   \n",
       "1   0.063977  0.0664608  0.0417149  0.0209176  0.00903446  0.00252979   \n",
       "2  0.0709713  0.0849516  0.0540641  0.0274327   0.0121224  0.00349053   \n",
       "3  0.0622139  0.0757878   0.047305  0.0226988  0.00971447  0.00269937   \n",
       "4  0.0588816  0.0469657  0.0312127  0.0159075  0.00730864  0.00202842   \n",
       "\n",
       "         pib_6  \n",
       "0   0.00237758  \n",
       "1  0.000989945  \n",
       "2   0.00142651  \n",
       "3   0.00105272  \n",
       "4  0.000777936  "
      ]
     },
     "execution_count": 10,
     "metadata": {},
     "output_type": "execute_result"
    }
   ],
   "source": [
    "files_df = pd.read_pickle('../processed_data/files_df_mean_pib.pkl')\n",
    "files_df.head()"
   ]
  },
  {
   "cell_type": "markdown",
   "metadata": {},
   "source": [
    "## Extract useful data"
   ]
  },
  {
   "cell_type": "code",
   "execution_count": 11,
   "metadata": {
    "collapsed": false
   },
   "outputs": [
    {
     "data": {
      "text/html": [
       "<div>\n",
       "<table border=\"1\" class=\"dataframe\">\n",
       "  <thead>\n",
       "    <tr style=\"text-align: right;\">\n",
       "      <th></th>\n",
       "      <th>patient</th>\n",
       "      <th>preictal</th>\n",
       "      <th>train</th>\n",
       "      <th>file_id</th>\n",
       "      <th>pib_0</th>\n",
       "      <th>pib_1</th>\n",
       "      <th>pib_2</th>\n",
       "      <th>pib_3</th>\n",
       "      <th>pib_4</th>\n",
       "      <th>pib_5</th>\n",
       "      <th>pib_6</th>\n",
       "    </tr>\n",
       "    <tr>\n",
       "      <th>file_name</th>\n",
       "      <th></th>\n",
       "      <th></th>\n",
       "      <th></th>\n",
       "      <th></th>\n",
       "      <th></th>\n",
       "      <th></th>\n",
       "      <th></th>\n",
       "      <th></th>\n",
       "      <th></th>\n",
       "      <th></th>\n",
       "      <th></th>\n",
       "    </tr>\n",
       "  </thead>\n",
       "  <tbody>\n",
       "    <tr>\n",
       "      <th>1_1.mat</th>\n",
       "      <td>1</td>\n",
       "      <td>-1</td>\n",
       "      <td>0</td>\n",
       "      <td>0</td>\n",
       "      <td>0.0870125</td>\n",
       "      <td>0.148382</td>\n",
       "      <td>0.0865826</td>\n",
       "      <td>0.0352896</td>\n",
       "      <td>0.0140147</td>\n",
       "      <td>0.00566536</td>\n",
       "      <td>0.00237758</td>\n",
       "    </tr>\n",
       "    <tr>\n",
       "      <th>1_10.mat</th>\n",
       "      <td>1</td>\n",
       "      <td>-1</td>\n",
       "      <td>0</td>\n",
       "      <td>1</td>\n",
       "      <td>0.063977</td>\n",
       "      <td>0.0664608</td>\n",
       "      <td>0.0417149</td>\n",
       "      <td>0.0209176</td>\n",
       "      <td>0.00903446</td>\n",
       "      <td>0.00252979</td>\n",
       "      <td>0.000989945</td>\n",
       "    </tr>\n",
       "    <tr>\n",
       "      <th>1_100.mat</th>\n",
       "      <td>1</td>\n",
       "      <td>-1</td>\n",
       "      <td>0</td>\n",
       "      <td>2</td>\n",
       "      <td>0.0709713</td>\n",
       "      <td>0.0849516</td>\n",
       "      <td>0.0540641</td>\n",
       "      <td>0.0274327</td>\n",
       "      <td>0.0121224</td>\n",
       "      <td>0.00349053</td>\n",
       "      <td>0.00142651</td>\n",
       "    </tr>\n",
       "    <tr>\n",
       "      <th>1_1000.mat</th>\n",
       "      <td>1</td>\n",
       "      <td>-1</td>\n",
       "      <td>0</td>\n",
       "      <td>3</td>\n",
       "      <td>0.0622139</td>\n",
       "      <td>0.0757878</td>\n",
       "      <td>0.047305</td>\n",
       "      <td>0.0226988</td>\n",
       "      <td>0.00971447</td>\n",
       "      <td>0.00269937</td>\n",
       "      <td>0.00105272</td>\n",
       "    </tr>\n",
       "    <tr>\n",
       "      <th>1_1001.mat</th>\n",
       "      <td>1</td>\n",
       "      <td>-1</td>\n",
       "      <td>0</td>\n",
       "      <td>4</td>\n",
       "      <td>0.0588816</td>\n",
       "      <td>0.0469657</td>\n",
       "      <td>0.0312127</td>\n",
       "      <td>0.0159075</td>\n",
       "      <td>0.00730864</td>\n",
       "      <td>0.00202842</td>\n",
       "      <td>0.000777936</td>\n",
       "    </tr>\n",
       "  </tbody>\n",
       "</table>\n",
       "</div>"
      ],
      "text/plain": [
       "           patient preictal train file_id      pib_0      pib_1      pib_2  \\\n",
       "file_name                                                                    \n",
       "1_1.mat          1       -1     0       0  0.0870125   0.148382  0.0865826   \n",
       "1_10.mat         1       -1     0       1   0.063977  0.0664608  0.0417149   \n",
       "1_100.mat        1       -1     0       2  0.0709713  0.0849516  0.0540641   \n",
       "1_1000.mat       1       -1     0       3  0.0622139  0.0757878   0.047305   \n",
       "1_1001.mat       1       -1     0       4  0.0588816  0.0469657  0.0312127   \n",
       "\n",
       "                pib_3       pib_4       pib_5        pib_6  \n",
       "file_name                                                   \n",
       "1_1.mat     0.0352896   0.0140147  0.00566536   0.00237758  \n",
       "1_10.mat    0.0209176  0.00903446  0.00252979  0.000989945  \n",
       "1_100.mat   0.0274327   0.0121224  0.00349053   0.00142651  \n",
       "1_1000.mat  0.0226988  0.00971447  0.00269937   0.00105272  \n",
       "1_1001.mat  0.0159075  0.00730864  0.00202842  0.000777936  "
      ]
     },
     "execution_count": 11,
     "metadata": {},
     "output_type": "execute_result"
    }
   ],
   "source": [
    "meta_df = files_df.set_index('file_name')\n",
    "meta_df = meta_df.loc[:,'patient':]\n",
    "meta_df.head()"
   ]
  },
  {
   "cell_type": "code",
   "execution_count": 34,
   "metadata": {
    "collapsed": false
   },
   "outputs": [
    {
     "data": {
      "text/html": [
       "<div>\n",
       "<table border=\"1\" class=\"dataframe\">\n",
       "  <thead>\n",
       "    <tr style=\"text-align: right;\">\n",
       "      <th></th>\n",
       "      <th>patient</th>\n",
       "      <th>pib_0</th>\n",
       "      <th>pib_1</th>\n",
       "      <th>pib_2</th>\n",
       "      <th>pib_3</th>\n",
       "      <th>pib_4</th>\n",
       "      <th>pib_5</th>\n",
       "      <th>pib_6</th>\n",
       "    </tr>\n",
       "    <tr>\n",
       "      <th>file_name</th>\n",
       "      <th></th>\n",
       "      <th></th>\n",
       "      <th></th>\n",
       "      <th></th>\n",
       "      <th></th>\n",
       "      <th></th>\n",
       "      <th></th>\n",
       "      <th></th>\n",
       "    </tr>\n",
       "  </thead>\n",
       "  <tbody>\n",
       "    <tr>\n",
       "      <th>1_1000_0.mat</th>\n",
       "      <td>1</td>\n",
       "      <td>0.10163</td>\n",
       "      <td>0.146955</td>\n",
       "      <td>0.0802858</td>\n",
       "      <td>0.0369979</td>\n",
       "      <td>0.0143574</td>\n",
       "      <td>0.00495526</td>\n",
       "      <td>0.00223435</td>\n",
       "    </tr>\n",
       "    <tr>\n",
       "      <th>1_1001_0.mat</th>\n",
       "      <td>1</td>\n",
       "      <td>0.106711</td>\n",
       "      <td>0.140512</td>\n",
       "      <td>0.078225</td>\n",
       "      <td>0.0348881</td>\n",
       "      <td>0.0141681</td>\n",
       "      <td>0.00521453</td>\n",
       "      <td>0.00234926</td>\n",
       "    </tr>\n",
       "    <tr>\n",
       "      <th>1_1002_0.mat</th>\n",
       "      <td>1</td>\n",
       "      <td>0.0864493</td>\n",
       "      <td>0.143632</td>\n",
       "      <td>0.0655083</td>\n",
       "      <td>0.0298233</td>\n",
       "      <td>0.0115557</td>\n",
       "      <td>0.00388654</td>\n",
       "      <td>0.00190574</td>\n",
       "    </tr>\n",
       "    <tr>\n",
       "      <th>1_1003_0.mat</th>\n",
       "      <td>1</td>\n",
       "      <td>0.0828803</td>\n",
       "      <td>0.150424</td>\n",
       "      <td>0.0797087</td>\n",
       "      <td>0.0377671</td>\n",
       "      <td>0.0155218</td>\n",
       "      <td>0.00474332</td>\n",
       "      <td>0.00232658</td>\n",
       "    </tr>\n",
       "    <tr>\n",
       "      <th>1_1004_0.mat</th>\n",
       "      <td>1</td>\n",
       "      <td>0.0614222</td>\n",
       "      <td>0.121627</td>\n",
       "      <td>0.0640707</td>\n",
       "      <td>0.0291021</td>\n",
       "      <td>0.0126332</td>\n",
       "      <td>0.00420025</td>\n",
       "      <td>0.00201733</td>\n",
       "    </tr>\n",
       "  </tbody>\n",
       "</table>\n",
       "</div>"
      ],
      "text/plain": [
       "             patient      pib_0     pib_1      pib_2      pib_3      pib_4  \\\n",
       "file_name                                                                    \n",
       "1_1000_0.mat       1    0.10163  0.146955  0.0802858  0.0369979  0.0143574   \n",
       "1_1001_0.mat       1   0.106711  0.140512   0.078225  0.0348881  0.0141681   \n",
       "1_1002_0.mat       1  0.0864493  0.143632  0.0655083  0.0298233  0.0115557   \n",
       "1_1003_0.mat       1  0.0828803  0.150424  0.0797087  0.0377671  0.0155218   \n",
       "1_1004_0.mat       1  0.0614222  0.121627  0.0640707  0.0291021  0.0126332   \n",
       "\n",
       "                   pib_5       pib_6  \n",
       "file_name                             \n",
       "1_1000_0.mat  0.00495526  0.00223435  \n",
       "1_1001_0.mat  0.00521453  0.00234926  \n",
       "1_1002_0.mat  0.00388654  0.00190574  \n",
       "1_1003_0.mat  0.00474332  0.00232658  \n",
       "1_1004_0.mat  0.00420025  0.00201733  "
      ]
     },
     "metadata": {},
     "output_type": "display_data"
    },
    {
     "data": {
      "text/plain": [
       "file_name\n",
       "1_1000_0.mat    0\n",
       "1_1001_0.mat    0\n",
       "1_1002_0.mat    0\n",
       "1_1003_0.mat    0\n",
       "1_1004_0.mat    0\n",
       "Name: preictal, dtype: object"
      ]
     },
     "metadata": {},
     "output_type": "display_data"
    }
   ],
   "source": [
    "# Train data\n",
    "X_train = meta_df[meta_df['train']==1]\n",
    "y_train = meta_df[meta_df['train']==1]['preictal']\n",
    "X_train = X_train.drop(['train','preictal', 'file_id'], axis=1)\n",
    "display(X_train.head())\n",
    "display(y_train.head())"
   ]
  },
  {
   "cell_type": "code",
   "execution_count": 37,
   "metadata": {
    "collapsed": false
   },
   "outputs": [
    {
     "data": {
      "text/html": [
       "<div>\n",
       "<table border=\"1\" class=\"dataframe\">\n",
       "  <thead>\n",
       "    <tr style=\"text-align: right;\">\n",
       "      <th></th>\n",
       "      <th>patient</th>\n",
       "      <th>pib_0</th>\n",
       "      <th>pib_1</th>\n",
       "      <th>pib_2</th>\n",
       "      <th>pib_3</th>\n",
       "      <th>pib_4</th>\n",
       "      <th>pib_5</th>\n",
       "      <th>pib_6</th>\n",
       "    </tr>\n",
       "    <tr>\n",
       "      <th>file_name</th>\n",
       "      <th></th>\n",
       "      <th></th>\n",
       "      <th></th>\n",
       "      <th></th>\n",
       "      <th></th>\n",
       "      <th></th>\n",
       "      <th></th>\n",
       "      <th></th>\n",
       "    </tr>\n",
       "  </thead>\n",
       "  <tbody>\n",
       "    <tr>\n",
       "      <th>1_1.mat</th>\n",
       "      <td>1</td>\n",
       "      <td>0.0870125</td>\n",
       "      <td>0.148382</td>\n",
       "      <td>0.0865826</td>\n",
       "      <td>0.0352896</td>\n",
       "      <td>0.0140147</td>\n",
       "      <td>0.00566536</td>\n",
       "      <td>0.00237758</td>\n",
       "    </tr>\n",
       "    <tr>\n",
       "      <th>1_10.mat</th>\n",
       "      <td>1</td>\n",
       "      <td>0.063977</td>\n",
       "      <td>0.0664608</td>\n",
       "      <td>0.0417149</td>\n",
       "      <td>0.0209176</td>\n",
       "      <td>0.00903446</td>\n",
       "      <td>0.00252979</td>\n",
       "      <td>0.000989945</td>\n",
       "    </tr>\n",
       "    <tr>\n",
       "      <th>1_100.mat</th>\n",
       "      <td>1</td>\n",
       "      <td>0.0709713</td>\n",
       "      <td>0.0849516</td>\n",
       "      <td>0.0540641</td>\n",
       "      <td>0.0274327</td>\n",
       "      <td>0.0121224</td>\n",
       "      <td>0.00349053</td>\n",
       "      <td>0.00142651</td>\n",
       "    </tr>\n",
       "    <tr>\n",
       "      <th>1_1000.mat</th>\n",
       "      <td>1</td>\n",
       "      <td>0.0622139</td>\n",
       "      <td>0.0757878</td>\n",
       "      <td>0.047305</td>\n",
       "      <td>0.0226988</td>\n",
       "      <td>0.00971447</td>\n",
       "      <td>0.00269937</td>\n",
       "      <td>0.00105272</td>\n",
       "    </tr>\n",
       "    <tr>\n",
       "      <th>1_1001.mat</th>\n",
       "      <td>1</td>\n",
       "      <td>0.0588816</td>\n",
       "      <td>0.0469657</td>\n",
       "      <td>0.0312127</td>\n",
       "      <td>0.0159075</td>\n",
       "      <td>0.00730864</td>\n",
       "      <td>0.00202842</td>\n",
       "      <td>0.000777936</td>\n",
       "    </tr>\n",
       "  </tbody>\n",
       "</table>\n",
       "</div>"
      ],
      "text/plain": [
       "           patient      pib_0      pib_1      pib_2      pib_3       pib_4  \\\n",
       "file_name                                                                    \n",
       "1_1.mat          1  0.0870125   0.148382  0.0865826  0.0352896   0.0140147   \n",
       "1_10.mat         1   0.063977  0.0664608  0.0417149  0.0209176  0.00903446   \n",
       "1_100.mat        1  0.0709713  0.0849516  0.0540641  0.0274327   0.0121224   \n",
       "1_1000.mat       1  0.0622139  0.0757878   0.047305  0.0226988  0.00971447   \n",
       "1_1001.mat       1  0.0588816  0.0469657  0.0312127  0.0159075  0.00730864   \n",
       "\n",
       "                 pib_5        pib_6  \n",
       "file_name                            \n",
       "1_1.mat     0.00566536   0.00237758  \n",
       "1_10.mat    0.00252979  0.000989945  \n",
       "1_100.mat   0.00349053   0.00142651  \n",
       "1_1000.mat  0.00269937   0.00105272  \n",
       "1_1001.mat  0.00202842  0.000777936  "
      ]
     },
     "metadata": {},
     "output_type": "display_data"
    }
   ],
   "source": [
    "# Test data\n",
    "X_test = meta_df[meta_df['train']==0]\n",
    "X_test = X_test.drop(['train','preictal','file_id'], axis=1)\n",
    "display(X_test.head())"
   ]
  },
  {
   "cell_type": "markdown",
   "metadata": {},
   "source": [
    "## Define pipeline and cross validation model fitting"
   ]
  },
  {
   "cell_type": "code",
   "execution_count": 38,
   "metadata": {
    "collapsed": false
   },
   "outputs": [],
   "source": [
    "param_grid = {\n",
    "    'classify__loss': ['log'],\n",
    "    'classify__penalty': ['elasticnet'],\n",
    "    'classify__alpha': [10 ** x for x in range(-3, 1)],\n",
    "    'classify__l1_ratio': [0, 0.2, 0.8, 1],\n",
    "}\n",
    "\n",
    "pipeline = Pipeline(steps=[\n",
    "    ('imputer', Imputer()),    \n",
    "    ('standardize', StandardScaler()),\n",
    "    ('classify', SGDClassifier())\n",
    "])\n",
    "\n",
    "cv_pipeline =  GridSearchCV(estimator=pipeline, param_grid=param_grid, scoring='roc_auc')"
   ]
  },
  {
   "cell_type": "code",
   "execution_count": 45,
   "metadata": {
    "collapsed": false
   },
   "outputs": [
    {
     "data": {
      "text/html": [
       "<div>\n",
       "<table border=\"1\" class=\"dataframe\">\n",
       "  <thead>\n",
       "    <tr style=\"text-align: right;\">\n",
       "      <th></th>\n",
       "      <th>patient</th>\n",
       "      <th>pib_0</th>\n",
       "      <th>pib_1</th>\n",
       "      <th>pib_2</th>\n",
       "      <th>pib_3</th>\n",
       "      <th>pib_4</th>\n",
       "      <th>pib_5</th>\n",
       "      <th>pib_6</th>\n",
       "    </tr>\n",
       "    <tr>\n",
       "      <th>file_name</th>\n",
       "      <th></th>\n",
       "      <th></th>\n",
       "      <th></th>\n",
       "      <th></th>\n",
       "      <th></th>\n",
       "      <th></th>\n",
       "      <th></th>\n",
       "      <th></th>\n",
       "    </tr>\n",
       "  </thead>\n",
       "  <tbody>\n",
       "    <tr>\n",
       "      <th>1_1000_0.mat</th>\n",
       "      <td>1</td>\n",
       "      <td>0.10163</td>\n",
       "      <td>0.146955</td>\n",
       "      <td>0.0802858</td>\n",
       "      <td>0.0369979</td>\n",
       "      <td>0.0143574</td>\n",
       "      <td>0.00495526</td>\n",
       "      <td>0.00223435</td>\n",
       "    </tr>\n",
       "    <tr>\n",
       "      <th>1_1001_0.mat</th>\n",
       "      <td>1</td>\n",
       "      <td>0.106711</td>\n",
       "      <td>0.140512</td>\n",
       "      <td>0.078225</td>\n",
       "      <td>0.0348881</td>\n",
       "      <td>0.0141681</td>\n",
       "      <td>0.00521453</td>\n",
       "      <td>0.00234926</td>\n",
       "    </tr>\n",
       "    <tr>\n",
       "      <th>1_1002_0.mat</th>\n",
       "      <td>1</td>\n",
       "      <td>0.0864493</td>\n",
       "      <td>0.143632</td>\n",
       "      <td>0.0655083</td>\n",
       "      <td>0.0298233</td>\n",
       "      <td>0.0115557</td>\n",
       "      <td>0.00388654</td>\n",
       "      <td>0.00190574</td>\n",
       "    </tr>\n",
       "    <tr>\n",
       "      <th>1_1003_0.mat</th>\n",
       "      <td>1</td>\n",
       "      <td>0.0828803</td>\n",
       "      <td>0.150424</td>\n",
       "      <td>0.0797087</td>\n",
       "      <td>0.0377671</td>\n",
       "      <td>0.0155218</td>\n",
       "      <td>0.00474332</td>\n",
       "      <td>0.00232658</td>\n",
       "    </tr>\n",
       "    <tr>\n",
       "      <th>1_1004_0.mat</th>\n",
       "      <td>1</td>\n",
       "      <td>0.0614222</td>\n",
       "      <td>0.121627</td>\n",
       "      <td>0.0640707</td>\n",
       "      <td>0.0291021</td>\n",
       "      <td>0.0126332</td>\n",
       "      <td>0.00420025</td>\n",
       "      <td>0.00201733</td>\n",
       "    </tr>\n",
       "  </tbody>\n",
       "</table>\n",
       "</div>"
      ],
      "text/plain": [
       "             patient      pib_0     pib_1      pib_2      pib_3      pib_4  \\\n",
       "file_name                                                                    \n",
       "1_1000_0.mat       1    0.10163  0.146955  0.0802858  0.0369979  0.0143574   \n",
       "1_1001_0.mat       1   0.106711  0.140512   0.078225  0.0348881  0.0141681   \n",
       "1_1002_0.mat       1  0.0864493  0.143632  0.0655083  0.0298233  0.0115557   \n",
       "1_1003_0.mat       1  0.0828803  0.150424  0.0797087  0.0377671  0.0155218   \n",
       "1_1004_0.mat       1  0.0614222  0.121627  0.0640707  0.0291021  0.0126332   \n",
       "\n",
       "                   pib_5       pib_6  \n",
       "file_name                             \n",
       "1_1000_0.mat  0.00495526  0.00223435  \n",
       "1_1001_0.mat  0.00521453  0.00234926  \n",
       "1_1002_0.mat  0.00388654  0.00190574  \n",
       "1_1003_0.mat  0.00474332  0.00232658  \n",
       "1_1004_0.mat  0.00420025  0.00201733  "
      ]
     },
     "metadata": {},
     "output_type": "display_data"
    },
    {
     "data": {
      "text/plain": [
       "array([0, 0, 0, 0, 0])"
      ]
     },
     "metadata": {},
     "output_type": "display_data"
    }
   ],
   "source": [
    "display(X_train.head())\n",
    "y_train = np.array(y_train).astype(int)\n",
    "display(y_train[0:5])"
   ]
  },
  {
   "cell_type": "code",
   "execution_count": 46,
   "metadata": {
    "collapsed": false
   },
   "outputs": [
    {
     "name": "stdout",
     "output_type": "stream",
     "text": [
      "CPU times: user 2.38 s, sys: 40.6 ms, total: 2.42 s\n",
      "Wall time: 1.43 s\n"
     ]
    },
    {
     "data": {
      "text/plain": [
       "GridSearchCV(cv=None, error_score='raise',\n",
       "       estimator=Pipeline(steps=[('imputer', Imputer(axis=0, copy=True, missing_values='NaN', strategy='mean', verbose=0)), ('standardize', StandardScaler(copy=True, with_mean=True, with_std=True)), ('classify', SGDClassifier(alpha=0.0001, average=False, class_weight=None, epsilon=0.1,\n",
       "       eta0=0.0, fit...  penalty='l2', power_t=0.5, random_state=None, shuffle=True,\n",
       "       verbose=0, warm_start=False))]),\n",
       "       fit_params={}, iid=True, n_jobs=1,\n",
       "       param_grid={'classify__alpha': [0.001, 0.01, 0.1, 1], 'classify__l1_ratio': [0, 0.2, 0.8, 1], 'classify__loss': ['log'], 'classify__penalty': ['elasticnet']},\n",
       "       pre_dispatch='2*n_jobs', refit=True, return_train_score=True,\n",
       "       scoring='roc_auc', verbose=0)"
      ]
     },
     "execution_count": 46,
     "metadata": {},
     "output_type": "execute_result"
    }
   ],
   "source": [
    "%%time\n",
    "cv_pipeline.fit(X=X_train, y=y_train)"
   ]
  },
  {
   "cell_type": "code",
   "execution_count": 47,
   "metadata": {
    "collapsed": false
   },
   "outputs": [
    {
     "name": "stdout",
     "output_type": "stream",
     "text": [
      "65.865%\n",
      "{'classify__alpha': 0.01, 'classify__l1_ratio': 1, 'classify__loss': 'log', 'classify__penalty': 'elasticnet'}\n"
     ]
    }
   ],
   "source": [
    "print('{:.3%}'.format(cv_pipeline.best_score_))\n",
    "print(cv_pipeline.best_params_)"
   ]
  },
  {
   "cell_type": "code",
   "execution_count": 48,
   "metadata": {
    "collapsed": false
   },
   "outputs": [
    {
     "data": {
      "text/html": [
       "<div>\n",
       "<table border=\"1\" class=\"dataframe\">\n",
       "  <thead>\n",
       "    <tr style=\"text-align: right;\">\n",
       "      <th></th>\n",
       "      <th>mean_fit_time</th>\n",
       "      <th>mean_score_time</th>\n",
       "      <th>mean_test_score</th>\n",
       "      <th>mean_train_score</th>\n",
       "      <th>param_classify__alpha</th>\n",
       "      <th>param_classify__l1_ratio</th>\n",
       "      <th>param_classify__loss</th>\n",
       "      <th>param_classify__penalty</th>\n",
       "      <th>params</th>\n",
       "      <th>rank_test_score</th>\n",
       "      <th>...</th>\n",
       "      <th>split2_test_score</th>\n",
       "      <th>split2_train_score</th>\n",
       "      <th>std_fit_time</th>\n",
       "      <th>std_score_time</th>\n",
       "      <th>std_test_score</th>\n",
       "      <th>std_train_score</th>\n",
       "      <th>classify__alpha</th>\n",
       "      <th>classify__l1_ratio</th>\n",
       "      <th>classify__loss</th>\n",
       "      <th>classify__penalty</th>\n",
       "    </tr>\n",
       "  </thead>\n",
       "  <tbody>\n",
       "    <tr>\n",
       "      <th>0</th>\n",
       "      <td>0.067561</td>\n",
       "      <td>0.023183</td>\n",
       "      <td>0.491332</td>\n",
       "      <td>0.665794</td>\n",
       "      <td>0.001</td>\n",
       "      <td>0</td>\n",
       "      <td>log</td>\n",
       "      <td>elasticnet</td>\n",
       "      <td>{'classify__alpha': 0.001, 'classify__l1_ratio...</td>\n",
       "      <td>16</td>\n",
       "      <td>...</td>\n",
       "      <td>0.654088</td>\n",
       "      <td>0.673825</td>\n",
       "      <td>0.077330</td>\n",
       "      <td>0.029542</td>\n",
       "      <td>0.137224</td>\n",
       "      <td>0.010182</td>\n",
       "      <td>0.001</td>\n",
       "      <td>0.0</td>\n",
       "      <td>log</td>\n",
       "      <td>elasticnet</td>\n",
       "    </tr>\n",
       "    <tr>\n",
       "      <th>1</th>\n",
       "      <td>0.014860</td>\n",
       "      <td>0.003125</td>\n",
       "      <td>0.505568</td>\n",
       "      <td>0.659267</td>\n",
       "      <td>0.001</td>\n",
       "      <td>0.2</td>\n",
       "      <td>log</td>\n",
       "      <td>elasticnet</td>\n",
       "      <td>{'classify__alpha': 0.001, 'classify__l1_ratio...</td>\n",
       "      <td>10</td>\n",
       "      <td>...</td>\n",
       "      <td>0.609038</td>\n",
       "      <td>0.655660</td>\n",
       "      <td>0.002895</td>\n",
       "      <td>0.000457</td>\n",
       "      <td>0.106095</td>\n",
       "      <td>0.031891</td>\n",
       "      <td>0.001</td>\n",
       "      <td>0.2</td>\n",
       "      <td>log</td>\n",
       "      <td>elasticnet</td>\n",
       "    </tr>\n",
       "  </tbody>\n",
       "</table>\n",
       "<p>2 rows × 24 columns</p>\n",
       "</div>"
      ],
      "text/plain": [
       "   mean_fit_time  mean_score_time  mean_test_score  mean_train_score  \\\n",
       "0       0.067561         0.023183         0.491332          0.665794   \n",
       "1       0.014860         0.003125         0.505568          0.659267   \n",
       "\n",
       "  param_classify__alpha param_classify__l1_ratio param_classify__loss  \\\n",
       "0                 0.001                        0                  log   \n",
       "1                 0.001                      0.2                  log   \n",
       "\n",
       "  param_classify__penalty                                             params  \\\n",
       "0              elasticnet  {'classify__alpha': 0.001, 'classify__l1_ratio...   \n",
       "1              elasticnet  {'classify__alpha': 0.001, 'classify__l1_ratio...   \n",
       "\n",
       "   rank_test_score        ...          split2_test_score  split2_train_score  \\\n",
       "0               16        ...                   0.654088            0.673825   \n",
       "1               10        ...                   0.609038            0.655660   \n",
       "\n",
       "   std_fit_time  std_score_time  std_test_score  std_train_score  \\\n",
       "0      0.077330        0.029542        0.137224         0.010182   \n",
       "1      0.002895        0.000457        0.106095         0.031891   \n",
       "\n",
       "   classify__alpha  classify__l1_ratio  classify__loss  classify__penalty  \n",
       "0            0.001                 0.0             log         elasticnet  \n",
       "1            0.001                 0.2             log         elasticnet  \n",
       "\n",
       "[2 rows x 24 columns]"
      ]
     },
     "execution_count": 48,
     "metadata": {},
     "output_type": "execute_result"
    }
   ],
   "source": [
    "cv_result_df = pd.concat([\n",
    "    pd.DataFrame(cv_pipeline.cv_results_),\n",
    "    pd.DataFrame.from_records(cv_pipeline.cv_results_['params']),\n",
    "], axis='columns')\n",
    "cv_result_df.head(2)"
   ]
  },
  {
   "cell_type": "code",
   "execution_count": 49,
   "metadata": {
    "collapsed": false
   },
   "outputs": [
    {
     "data": {
      "image/png": "[encoded data removed]",
      "text/plain": [
       "<matplotlib.figure.Figure at 0x119a3a0b8>"
      ]
     },
     "metadata": {},
     "output_type": "display_data"
    }
   ],
   "source": [
    "# Cross-validated performance heatmap\n",
    "ax = plt.figure()\n",
    "cv_score_mat = pd.pivot_table(cv_result_df, values='mean_test_score', index='classify__l1_ratio', columns='classify__alpha')\n",
    "\n",
    "ax = sns.heatmap(cv_score_mat, annot=True, fmt='.1%')\n",
    "ax.set_xlabel('Regularization strength multiplier (alpha)')\n",
    "ax.set_ylabel('Elastic net mix param (l1_ratio)');"
   ]
  },
  {
   "cell_type": "markdown",
   "metadata": {},
   "source": [
    "## Use Optimal Hyperparameters to Output ROC Curve"
   ]
  },
  {
   "cell_type": "code",
   "execution_count": 50,
   "metadata": {
    "collapsed": true
   },
   "outputs": [],
   "source": [
    "def get_threshold_metrics(y_true, y_pred):\n",
    "    roc_columns = ['fpr', 'tpr', 'threshold']\n",
    "    roc_items = zip(roc_columns, roc_curve(y_true, y_pred))\n",
    "    roc_df = pd.DataFrame.from_items(roc_items)\n",
    "    auroc = roc_auc_score(y_true, y_pred)\n",
    "    return {'auroc': auroc, 'roc_df': roc_df}\n",
    "\n",
    "y_pred_train = cv_pipeline.decision_function(X_train)\n",
    "metrics_train = get_threshold_metrics(y_train, y_pred_train)"
   ]
  },
  {
   "cell_type": "code",
   "execution_count": 51,
   "metadata": {
    "collapsed": false
   },
   "outputs": [
    {
     "data": {
      "image/png": "[encoded data removed]",
      "text/plain": [
       "<matplotlib.figure.Figure at 0x119adf4e0>"
      ]
     },
     "metadata": {},
     "output_type": "display_data"
    }
   ],
   "source": [
    "roc_df = metrics_train['roc_df']\n",
    "plt.plot(roc_df.fpr, roc_df.tpr,\n",
    "label='{} (AUROC = {:.1%})'.format('training', metrics_train['auroc']))\n",
    "plt.xlim([0.0, 1.0])\n",
    "plt.ylim([0.0, 1.05])\n",
    "plt.xlabel('False Positive Rate')\n",
    "plt.ylabel('True Positive Rate')\n",
    "plt.title('Predicting TP53 mutation from gene expression (ROC curves)')\n",
    "plt.legend(loc='lower right');"
   ]
  },
  {
   "cell_type": "markdown",
   "metadata": {},
   "source": [
    "## Predict test ictal status and save as csv"
   ]
  },
  {
   "cell_type": "code",
   "execution_count": 53,
   "metadata": {
    "collapsed": false
   },
   "outputs": [
    {
     "data": {
      "text/html": [
       "<div>\n",
       "<table border=\"1\" class=\"dataframe\">\n",
       "  <thead>\n",
       "    <tr style=\"text-align: right;\">\n",
       "      <th></th>\n",
       "      <th>File</th>\n",
       "      <th>Class</th>\n",
       "    </tr>\n",
       "  </thead>\n",
       "  <tbody>\n",
       "    <tr>\n",
       "      <th>0</th>\n",
       "      <td>1_1.mat</td>\n",
       "      <td>0</td>\n",
       "    </tr>\n",
       "    <tr>\n",
       "      <th>1</th>\n",
       "      <td>1_10.mat</td>\n",
       "      <td>0</td>\n",
       "    </tr>\n",
       "    <tr>\n",
       "      <th>2</th>\n",
       "      <td>1_100.mat</td>\n",
       "      <td>0</td>\n",
       "    </tr>\n",
       "    <tr>\n",
       "      <th>3</th>\n",
       "      <td>1_1000.mat</td>\n",
       "      <td>0</td>\n",
       "    </tr>\n",
       "    <tr>\n",
       "      <th>4</th>\n",
       "      <td>1_1001.mat</td>\n",
       "      <td>0</td>\n",
       "    </tr>\n",
       "  </tbody>\n",
       "</table>\n",
       "</div>"
      ],
      "text/plain": [
       "         File  Class\n",
       "0     1_1.mat      0\n",
       "1    1_10.mat      0\n",
       "2   1_100.mat      0\n",
       "3  1_1000.mat      0\n",
       "4  1_1001.mat      0"
      ]
     },
     "execution_count": 53,
     "metadata": {},
     "output_type": "execute_result"
    }
   ],
   "source": [
    "y_pred_test = cv_pipeline.predict(X_test)\n",
    "output_df = pd.DataFrame({'File':X_test.index.values, 'Class': y_pred_test})\n",
    "output_df = output_df[['File','Class']]\n",
    "output_df.to_csv('../submissions/submission_6.csv',index=False)\n",
    "output_df.head()"
   ]
  },
  {
   "cell_type": "code",
   "execution_count": null,
   "metadata": {
    "collapsed": true
   },
   "outputs": [],
   "source": []
  }
 ],
 "metadata": {
  "kernelspec": {
   "display_name": "Python 3",
   "language": "python",
   "name": "python3"
  },
  "language_info": {
   "codemirror_mode": {
    "name": "ipython",
    "version": 3
   },
   "file_extension": ".py",
   "mimetype": "text/x-python",
   "name": "python",
   "nbconvert_exporter": "python",
   "pygments_lexer": "ipython3",
   "version": "3.5.2"
  }
 },
 "nbformat": 4,
 "nbformat_minor": 0
}
