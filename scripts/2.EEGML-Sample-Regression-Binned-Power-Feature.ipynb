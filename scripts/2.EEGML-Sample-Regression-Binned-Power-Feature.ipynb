{
 "cells": [
  {
   "cell_type": "markdown",
   "metadata": {},
   "source": [
    "# Perform regression on a sample set using the binned power feature. "
   ]
  },
  {
   "cell_type": "code",
   "execution_count": 159,
   "metadata": {
    "collapsed": false
   },
   "outputs": [],
   "source": [
    "import pandas as pd\n",
    "import numpy as np\n",
    "import matplotlib.pyplot as plt\n",
    "from IPython.display import display\n",
    "import seaborn as sns\n",
    "plt.style.use('seaborn-notebook')\n",
    "from utils import eegml_data_load, generate_features\n",
    "from sklearn.pipeline import Pipeline\n",
    "from sklearn.preprocessing import Imputer\n",
    "from sklearn.model_selection import train_test_split\n",
    "from sklearn.linear_model import SGDClassifier\n",
    "from sklearn.metrics import roc_curve, roc_auc_score\n",
    "%matplotlib inline"
   ]
  },
  {
   "cell_type": "markdown",
   "metadata": {},
   "source": [
    "## Make a dataframe of file meta data"
   ]
  },
  {
   "cell_type": "code",
   "execution_count": 160,
   "metadata": {
    "collapsed": false
   },
   "outputs": [
    {
     "data": {
      "text/html": [
       "<div>\n",
       "<table border=\"1\" class=\"dataframe\">\n",
       "  <thead>\n",
       "    <tr style=\"text-align: right;\">\n",
       "      <th></th>\n",
       "      <th>dir_name</th>\n",
       "      <th>file_name</th>\n",
       "      <th>path</th>\n",
       "      <th>patient</th>\n",
       "      <th>preictal</th>\n",
       "      <th>train</th>\n",
       "      <th>file_id</th>\n",
       "    </tr>\n",
       "  </thead>\n",
       "  <tbody>\n",
       "    <tr>\n",
       "      <th>0</th>\n",
       "      <td>test_1_new</td>\n",
       "      <td>new_1_1.mat</td>\n",
       "      <td>test_1_new/new_1_1.mat</td>\n",
       "      <td>1</td>\n",
       "      <td>-1</td>\n",
       "      <td>0</td>\n",
       "      <td>0</td>\n",
       "    </tr>\n",
       "    <tr>\n",
       "      <th>1</th>\n",
       "      <td>test_1_new</td>\n",
       "      <td>new_1_10.mat</td>\n",
       "      <td>test_1_new/new_1_10.mat</td>\n",
       "      <td>1</td>\n",
       "      <td>-1</td>\n",
       "      <td>0</td>\n",
       "      <td>1</td>\n",
       "    </tr>\n",
       "    <tr>\n",
       "      <th>2</th>\n",
       "      <td>test_1_new</td>\n",
       "      <td>new_1_100.mat</td>\n",
       "      <td>test_1_new/new_1_100.mat</td>\n",
       "      <td>1</td>\n",
       "      <td>-1</td>\n",
       "      <td>0</td>\n",
       "      <td>2</td>\n",
       "    </tr>\n",
       "    <tr>\n",
       "      <th>3</th>\n",
       "      <td>test_1_new</td>\n",
       "      <td>new_1_101.mat</td>\n",
       "      <td>test_1_new/new_1_101.mat</td>\n",
       "      <td>1</td>\n",
       "      <td>-1</td>\n",
       "      <td>0</td>\n",
       "      <td>3</td>\n",
       "    </tr>\n",
       "    <tr>\n",
       "      <th>4</th>\n",
       "      <td>test_1_new</td>\n",
       "      <td>new_1_102.mat</td>\n",
       "      <td>test_1_new/new_1_102.mat</td>\n",
       "      <td>1</td>\n",
       "      <td>-1</td>\n",
       "      <td>0</td>\n",
       "      <td>4</td>\n",
       "    </tr>\n",
       "  </tbody>\n",
       "</table>\n",
       "</div>"
      ],
      "text/plain": [
       "     dir_name      file_name                      path  patient  preictal  \\\n",
       "0  test_1_new    new_1_1.mat    test_1_new/new_1_1.mat        1        -1   \n",
       "1  test_1_new   new_1_10.mat   test_1_new/new_1_10.mat        1        -1   \n",
       "2  test_1_new  new_1_100.mat  test_1_new/new_1_100.mat        1        -1   \n",
       "3  test_1_new  new_1_101.mat  test_1_new/new_1_101.mat        1        -1   \n",
       "4  test_1_new  new_1_102.mat  test_1_new/new_1_102.mat        1        -1   \n",
       "\n",
       "   train  file_id  \n",
       "0      0        0  \n",
       "1      0        1  \n",
       "2      0        2  \n",
       "3      0        3  \n",
       "4      0        4  "
      ]
     },
     "execution_count": 160,
     "metadata": {},
     "output_type": "execute_result"
    }
   ],
   "source": [
    "files_df = eegml_data_load.create_files_df()\n",
    "files_df.head()"
   ]
  },
  {
   "cell_type": "markdown",
   "metadata": {},
   "source": [
    "## Compute the binned power features. "
   ]
  },
  {
   "cell_type": "code",
   "execution_count": 161,
   "metadata": {
    "collapsed": false
   },
   "outputs": [
    {
     "name": "stdout",
     "output_type": "stream",
     "text": [
      "1908 1909 1911 1912 1913 1914 1915 1916 1918 1919 1920 1921 1923 1924 1925 1926 1927 1928 1929 1930 1931 1932 1933 1935 1936 1937 1938 1939 1940 1941 1942 1943 1944 1945 1947 1948 1949 1950 1951 1952 1953 1954 1955 1956 1957 1959 1960 1961 1962 1963 1910 1917 1922 1934 1946 1958 1970 1982 1994 2005 2007 2009 2014 2025 2027 2029 2031 2033 2035 2037 2039 2041 2043 2045 2047 2049 2051 2053 2055 2056 2057 2058 2060 2061 2062 2063 2064 2065 2066 2067 2068 2069 2070 2072 2073 2074 2075 2076 2077 2078 CPU times: user 657 ms, sys: 44.3 ms, total: 702 ms\n",
      "Wall time: 1.52 s\n"
     ]
    }
   ],
   "source": [
    "%%time\n",
    "\n",
    "# Create sample set for feature creation.\n",
    "num_files_cat = 50 # number of test files per category (inter,pre,test)\n",
    "inter_exs = files_df[files_df['preictal']==0].iloc[:num_files_cat,:]\n",
    "pre_exs = files_df[files_df['preictal']==1].iloc[:num_files_cat,:]\n",
    "sample_set = pd.concat([inter_exs, pre_exs])\n",
    "\n",
    "bin_size = 200 # number of bins to average over\n",
    "    \n",
    "avg_bin_norm_power_mat = []\n",
    "for i,file in sample_set.iterrows():\n",
    "    print(str(i)+str(\" \"), end=\"\")\n",
    "    \n",
    "    # Normalize and bin power spectra.\n",
    "    avg_bin_norm_power = generate_features.norm_bin_and_avg_power_spectra(file, bin_size)\n",
    "    \n",
    "    # Concatenate result.\n",
    "    avg_bin_norm_power_mat.append(avg_bin_norm_power)"
   ]
  },
  {
   "cell_type": "code",
   "execution_count": 162,
   "metadata": {
    "collapsed": false
   },
   "outputs": [
    {
     "data": {
      "text/html": [
       "<div>\n",
       "<table border=\"1\" class=\"dataframe\">\n",
       "  <thead>\n",
       "    <tr style=\"text-align: right;\">\n",
       "      <th></th>\n",
       "      <th>dir_name</th>\n",
       "      <th>file_name</th>\n",
       "      <th>path</th>\n",
       "      <th>patient</th>\n",
       "      <th>preictal</th>\n",
       "      <th>train</th>\n",
       "      <th>file_id</th>\n",
       "      <th>pib_0</th>\n",
       "      <th>pib_1</th>\n",
       "      <th>pib_2</th>\n",
       "      <th>...</th>\n",
       "      <th>pib_590</th>\n",
       "      <th>pib_591</th>\n",
       "      <th>pib_592</th>\n",
       "      <th>pib_593</th>\n",
       "      <th>pib_594</th>\n",
       "      <th>pib_595</th>\n",
       "      <th>pib_596</th>\n",
       "      <th>pib_597</th>\n",
       "      <th>pib_598</th>\n",
       "      <th>pib_599</th>\n",
       "    </tr>\n",
       "  </thead>\n",
       "  <tbody>\n",
       "    <tr>\n",
       "      <th>0</th>\n",
       "      <td>train_1</td>\n",
       "      <td>1_1009_0.mat</td>\n",
       "      <td>train_1/1_1009_0.mat</td>\n",
       "      <td>1</td>\n",
       "      <td>0</td>\n",
       "      <td>1</td>\n",
       "      <td>1908</td>\n",
       "      <td>0.018110</td>\n",
       "      <td>0.039671</td>\n",
       "      <td>0.042882</td>\n",
       "      <td>...</td>\n",
       "      <td>0.000252</td>\n",
       "      <td>0.000250</td>\n",
       "      <td>0.000259</td>\n",
       "      <td>0.000249</td>\n",
       "      <td>0.000254</td>\n",
       "      <td>0.000250</td>\n",
       "      <td>0.000238</td>\n",
       "      <td>0.000252</td>\n",
       "      <td>0.000240</td>\n",
       "      <td>0.000252</td>\n",
       "    </tr>\n",
       "    <tr>\n",
       "      <th>1</th>\n",
       "      <td>train_1</td>\n",
       "      <td>1_100_0.mat</td>\n",
       "      <td>train_1/1_100_0.mat</td>\n",
       "      <td>1</td>\n",
       "      <td>0</td>\n",
       "      <td>1</td>\n",
       "      <td>1909</td>\n",
       "      <td>0.015669</td>\n",
       "      <td>0.019936</td>\n",
       "      <td>0.027271</td>\n",
       "      <td>...</td>\n",
       "      <td>0.000239</td>\n",
       "      <td>0.000252</td>\n",
       "      <td>0.000255</td>\n",
       "      <td>0.000240</td>\n",
       "      <td>0.000244</td>\n",
       "      <td>0.000247</td>\n",
       "      <td>0.000234</td>\n",
       "      <td>0.000252</td>\n",
       "      <td>0.000246</td>\n",
       "      <td>0.000237</td>\n",
       "    </tr>\n",
       "    <tr>\n",
       "      <th>2</th>\n",
       "      <td>train_1</td>\n",
       "      <td>1_1010_0.mat</td>\n",
       "      <td>train_1/1_1010_0.mat</td>\n",
       "      <td>1</td>\n",
       "      <td>0</td>\n",
       "      <td>1</td>\n",
       "      <td>1911</td>\n",
       "      <td>0.013686</td>\n",
       "      <td>0.031498</td>\n",
       "      <td>0.036498</td>\n",
       "      <td>...</td>\n",
       "      <td>0.000250</td>\n",
       "      <td>0.000250</td>\n",
       "      <td>0.000241</td>\n",
       "      <td>0.000237</td>\n",
       "      <td>0.000238</td>\n",
       "      <td>0.000233</td>\n",
       "      <td>0.000250</td>\n",
       "      <td>0.000249</td>\n",
       "      <td>0.000235</td>\n",
       "      <td>0.000244</td>\n",
       "    </tr>\n",
       "    <tr>\n",
       "      <th>3</th>\n",
       "      <td>train_1</td>\n",
       "      <td>1_1011_0.mat</td>\n",
       "      <td>train_1/1_1011_0.mat</td>\n",
       "      <td>1</td>\n",
       "      <td>0</td>\n",
       "      <td>1</td>\n",
       "      <td>1912</td>\n",
       "      <td>0.014710</td>\n",
       "      <td>0.030240</td>\n",
       "      <td>0.033823</td>\n",
       "      <td>...</td>\n",
       "      <td>0.000260</td>\n",
       "      <td>0.000253</td>\n",
       "      <td>0.000272</td>\n",
       "      <td>0.000272</td>\n",
       "      <td>0.000260</td>\n",
       "      <td>0.000254</td>\n",
       "      <td>0.000253</td>\n",
       "      <td>0.000250</td>\n",
       "      <td>0.000259</td>\n",
       "      <td>0.000252</td>\n",
       "    </tr>\n",
       "    <tr>\n",
       "      <th>4</th>\n",
       "      <td>train_1</td>\n",
       "      <td>1_1012_0.mat</td>\n",
       "      <td>train_1/1_1012_0.mat</td>\n",
       "      <td>1</td>\n",
       "      <td>0</td>\n",
       "      <td>1</td>\n",
       "      <td>1913</td>\n",
       "      <td>0.014697</td>\n",
       "      <td>0.028420</td>\n",
       "      <td>0.035914</td>\n",
       "      <td>...</td>\n",
       "      <td>0.000250</td>\n",
       "      <td>0.000267</td>\n",
       "      <td>0.000248</td>\n",
       "      <td>0.000240</td>\n",
       "      <td>0.000251</td>\n",
       "      <td>0.000245</td>\n",
       "      <td>0.000257</td>\n",
       "      <td>0.000259</td>\n",
       "      <td>0.000256</td>\n",
       "      <td>0.000271</td>\n",
       "    </tr>\n",
       "  </tbody>\n",
       "</table>\n",
       "<p>5 rows × 607 columns</p>\n",
       "</div>"
      ],
      "text/plain": [
       "  dir_name     file_name                  path  patient  preictal  train  \\\n",
       "0  train_1  1_1009_0.mat  train_1/1_1009_0.mat        1         0      1   \n",
       "1  train_1   1_100_0.mat   train_1/1_100_0.mat        1         0      1   \n",
       "2  train_1  1_1010_0.mat  train_1/1_1010_0.mat        1         0      1   \n",
       "3  train_1  1_1011_0.mat  train_1/1_1011_0.mat        1         0      1   \n",
       "4  train_1  1_1012_0.mat  train_1/1_1012_0.mat        1         0      1   \n",
       "\n",
       "   file_id     pib_0     pib_1     pib_2    ...      pib_590   pib_591  \\\n",
       "0     1908  0.018110  0.039671  0.042882    ...     0.000252  0.000250   \n",
       "1     1909  0.015669  0.019936  0.027271    ...     0.000239  0.000252   \n",
       "2     1911  0.013686  0.031498  0.036498    ...     0.000250  0.000250   \n",
       "3     1912  0.014710  0.030240  0.033823    ...     0.000260  0.000253   \n",
       "4     1913  0.014697  0.028420  0.035914    ...     0.000250  0.000267   \n",
       "\n",
       "    pib_592   pib_593   pib_594   pib_595   pib_596   pib_597   pib_598  \\\n",
       "0  0.000259  0.000249  0.000254  0.000250  0.000238  0.000252  0.000240   \n",
       "1  0.000255  0.000240  0.000244  0.000247  0.000234  0.000252  0.000246   \n",
       "2  0.000241  0.000237  0.000238  0.000233  0.000250  0.000249  0.000235   \n",
       "3  0.000272  0.000272  0.000260  0.000254  0.000253  0.000250  0.000259   \n",
       "4  0.000248  0.000240  0.000251  0.000245  0.000257  0.000259  0.000256   \n",
       "\n",
       "    pib_599  \n",
       "0  0.000252  \n",
       "1  0.000237  \n",
       "2  0.000244  \n",
       "3  0.000252  \n",
       "4  0.000271  \n",
       "\n",
       "[5 rows x 607 columns]"
      ]
     },
     "execution_count": 162,
     "metadata": {},
     "output_type": "execute_result"
    }
   ],
   "source": [
    "# Assign feats to sample data frame.\n",
    "num_feats = len(avg_bin_norm_power_mat[0])\n",
    "col_names = ['pib_'+str(i) for i in range(num_feats)]\n",
    "feats = pd.DataFrame(avg_bin_norm_power_mat, columns = col_names)\n",
    "feats['file_id'] = sample_set['file_id'].values\n",
    "sample_set_feats = sample_set.merge(feats,how='left')\n",
    "sample_set_feats.head()"
   ]
  },
  {
   "cell_type": "markdown",
   "metadata": {},
   "source": [
    "## Clean up data for ml."
   ]
  },
  {
   "cell_type": "code",
   "execution_count": 163,
   "metadata": {
    "collapsed": false
   },
   "outputs": [
    {
     "data": {
      "text/html": [
       "<div>\n",
       "<table border=\"1\" class=\"dataframe\">\n",
       "  <thead>\n",
       "    <tr style=\"text-align: right;\">\n",
       "      <th></th>\n",
       "      <th>pib_0</th>\n",
       "      <th>pib_1</th>\n",
       "      <th>pib_2</th>\n",
       "      <th>pib_3</th>\n",
       "      <th>pib_4</th>\n",
       "      <th>pib_5</th>\n",
       "      <th>pib_6</th>\n",
       "      <th>pib_7</th>\n",
       "      <th>pib_8</th>\n",
       "      <th>pib_9</th>\n",
       "      <th>...</th>\n",
       "      <th>pib_590</th>\n",
       "      <th>pib_591</th>\n",
       "      <th>pib_592</th>\n",
       "      <th>pib_593</th>\n",
       "      <th>pib_594</th>\n",
       "      <th>pib_595</th>\n",
       "      <th>pib_596</th>\n",
       "      <th>pib_597</th>\n",
       "      <th>pib_598</th>\n",
       "      <th>pib_599</th>\n",
       "    </tr>\n",
       "  </thead>\n",
       "  <tbody>\n",
       "    <tr>\n",
       "      <th>91</th>\n",
       "      <td>0.018181</td>\n",
       "      <td>0.016025</td>\n",
       "      <td>0.020369</td>\n",
       "      <td>0.021861</td>\n",
       "      <td>0.021035</td>\n",
       "      <td>0.024477</td>\n",
       "      <td>0.026308</td>\n",
       "      <td>0.027023</td>\n",
       "      <td>0.025179</td>\n",
       "      <td>0.023523</td>\n",
       "      <td>...</td>\n",
       "      <td>0.000292</td>\n",
       "      <td>0.000290</td>\n",
       "      <td>0.000278</td>\n",
       "      <td>0.000308</td>\n",
       "      <td>0.000283</td>\n",
       "      <td>0.000279</td>\n",
       "      <td>0.000283</td>\n",
       "      <td>0.000295</td>\n",
       "      <td>0.000280</td>\n",
       "      <td>0.000289</td>\n",
       "    </tr>\n",
       "    <tr>\n",
       "      <th>59</th>\n",
       "      <td>0.020696</td>\n",
       "      <td>0.019692</td>\n",
       "      <td>0.023253</td>\n",
       "      <td>0.025846</td>\n",
       "      <td>0.024369</td>\n",
       "      <td>0.026244</td>\n",
       "      <td>0.028746</td>\n",
       "      <td>0.028255</td>\n",
       "      <td>0.024361</td>\n",
       "      <td>0.022946</td>\n",
       "      <td>...</td>\n",
       "      <td>0.000226</td>\n",
       "      <td>0.000229</td>\n",
       "      <td>0.000234</td>\n",
       "      <td>0.000230</td>\n",
       "      <td>0.000230</td>\n",
       "      <td>0.000224</td>\n",
       "      <td>0.000221</td>\n",
       "      <td>0.000224</td>\n",
       "      <td>0.000228</td>\n",
       "      <td>0.000228</td>\n",
       "    </tr>\n",
       "    <tr>\n",
       "      <th>0</th>\n",
       "      <td>0.018110</td>\n",
       "      <td>0.039671</td>\n",
       "      <td>0.042882</td>\n",
       "      <td>0.037684</td>\n",
       "      <td>0.033732</td>\n",
       "      <td>0.031105</td>\n",
       "      <td>0.027885</td>\n",
       "      <td>0.027218</td>\n",
       "      <td>0.025902</td>\n",
       "      <td>0.023802</td>\n",
       "      <td>...</td>\n",
       "      <td>0.000252</td>\n",
       "      <td>0.000250</td>\n",
       "      <td>0.000259</td>\n",
       "      <td>0.000249</td>\n",
       "      <td>0.000254</td>\n",
       "      <td>0.000250</td>\n",
       "      <td>0.000238</td>\n",
       "      <td>0.000252</td>\n",
       "      <td>0.000240</td>\n",
       "      <td>0.000252</td>\n",
       "    </tr>\n",
       "    <tr>\n",
       "      <th>34</th>\n",
       "      <td>0.017498</td>\n",
       "      <td>0.015752</td>\n",
       "      <td>0.018535</td>\n",
       "      <td>0.019383</td>\n",
       "      <td>0.020596</td>\n",
       "      <td>0.021970</td>\n",
       "      <td>0.028165</td>\n",
       "      <td>0.033010</td>\n",
       "      <td>0.025635</td>\n",
       "      <td>0.022069</td>\n",
       "      <td>...</td>\n",
       "      <td>0.000303</td>\n",
       "      <td>0.000314</td>\n",
       "      <td>0.000305</td>\n",
       "      <td>0.000303</td>\n",
       "      <td>0.000309</td>\n",
       "      <td>0.000303</td>\n",
       "      <td>0.000318</td>\n",
       "      <td>0.000315</td>\n",
       "      <td>0.000318</td>\n",
       "      <td>0.000312</td>\n",
       "    </tr>\n",
       "    <tr>\n",
       "      <th>28</th>\n",
       "      <td>0.020562</td>\n",
       "      <td>0.017934</td>\n",
       "      <td>0.019960</td>\n",
       "      <td>0.020916</td>\n",
       "      <td>0.020994</td>\n",
       "      <td>0.021097</td>\n",
       "      <td>0.024371</td>\n",
       "      <td>0.031739</td>\n",
       "      <td>0.026267</td>\n",
       "      <td>0.022692</td>\n",
       "      <td>...</td>\n",
       "      <td>0.000292</td>\n",
       "      <td>0.000290</td>\n",
       "      <td>0.000291</td>\n",
       "      <td>0.000284</td>\n",
       "      <td>0.000289</td>\n",
       "      <td>0.000271</td>\n",
       "      <td>0.000280</td>\n",
       "      <td>0.000291</td>\n",
       "      <td>0.000297</td>\n",
       "      <td>0.000296</td>\n",
       "    </tr>\n",
       "  </tbody>\n",
       "</table>\n",
       "<p>5 rows × 600 columns</p>\n",
       "</div>"
      ],
      "text/plain": [
       "       pib_0     pib_1     pib_2     pib_3     pib_4     pib_5     pib_6  \\\n",
       "91  0.018181  0.016025  0.020369  0.021861  0.021035  0.024477  0.026308   \n",
       "59  0.020696  0.019692  0.023253  0.025846  0.024369  0.026244  0.028746   \n",
       "0   0.018110  0.039671  0.042882  0.037684  0.033732  0.031105  0.027885   \n",
       "34  0.017498  0.015752  0.018535  0.019383  0.020596  0.021970  0.028165   \n",
       "28  0.020562  0.017934  0.019960  0.020916  0.020994  0.021097  0.024371   \n",
       "\n",
       "       pib_7     pib_8     pib_9    ...      pib_590   pib_591   pib_592  \\\n",
       "91  0.027023  0.025179  0.023523    ...     0.000292  0.000290  0.000278   \n",
       "59  0.028255  0.024361  0.022946    ...     0.000226  0.000229  0.000234   \n",
       "0   0.027218  0.025902  0.023802    ...     0.000252  0.000250  0.000259   \n",
       "34  0.033010  0.025635  0.022069    ...     0.000303  0.000314  0.000305   \n",
       "28  0.031739  0.026267  0.022692    ...     0.000292  0.000290  0.000291   \n",
       "\n",
       "     pib_593   pib_594   pib_595   pib_596   pib_597   pib_598   pib_599  \n",
       "91  0.000308  0.000283  0.000279  0.000283  0.000295  0.000280  0.000289  \n",
       "59  0.000230  0.000230  0.000224  0.000221  0.000224  0.000228  0.000228  \n",
       "0   0.000249  0.000254  0.000250  0.000238  0.000252  0.000240  0.000252  \n",
       "34  0.000303  0.000309  0.000303  0.000318  0.000315  0.000318  0.000312  \n",
       "28  0.000284  0.000289  0.000271  0.000280  0.000291  0.000297  0.000296  \n",
       "\n",
       "[5 rows x 600 columns]"
      ]
     },
     "execution_count": 163,
     "metadata": {},
     "output_type": "execute_result"
    }
   ],
   "source": [
    "X = sample_set_feats.loc[:,'pib_0':]\n",
    "y = sample_set_feats.loc[:,'preictal']\n",
    "# Split up data for train and cv. \n",
    "X_train, X_cv, y_train, y_cv = train_test_split(X, y, test_size=0.5, random_state=0)\n",
    "X_train.head()"
   ]
  },
  {
   "cell_type": "markdown",
   "metadata": {},
   "source": [
    "## Create pipeline, fit, and predict."
   ]
  },
  {
   "cell_type": "code",
   "execution_count": 133,
   "metadata": {
    "collapsed": false
   },
   "outputs": [],
   "source": [
    "pipeline = Pipeline(steps=[\n",
    "    ('imputer', Imputer()),    \n",
    "    ('classify', SGDClassifier(loss='log'))\n",
    "])"
   ]
  },
  {
   "cell_type": "code",
   "execution_count": 134,
   "metadata": {
    "collapsed": false
   },
   "outputs": [
    {
     "data": {
      "text/plain": [
       "0.77083333333333326"
      ]
     },
     "execution_count": 134,
     "metadata": {},
     "output_type": "execute_result"
    }
   ],
   "source": [
    "pipeline.fit(X_train,y_train)\n",
    "y_pred_cv = pipeline.decision_function(X_cv)\n",
    "roc_auc_score(y_cv, y_pred_cv)"
   ]
  },
  {
   "cell_type": "code",
   "execution_count": 135,
   "metadata": {
    "collapsed": false
   },
   "outputs": [
    {
     "data": {
      "image/png": "[encoded data removed]",
      "text/plain": [
       "<matplotlib.figure.Figure at 0x117f29f98>"
      ]
     },
     "metadata": {},
     "output_type": "display_data"
    }
   ],
   "source": [
    "fpr, tpr, thresholds = roc_curve(y_cv,y_pred_cv)\n",
    "plt.plot(fpr,tpr)\n",
    "plt.xlabel('False Positive Rate')\n",
    "plt.ylabel('True Positive Rate')\n",
    "plt.show()"
   ]
  },
  {
   "cell_type": "code",
   "execution_count": 146,
   "metadata": {
    "collapsed": false
   },
   "outputs": [
    {
     "data": {
      "image/png": "[encoded data removed]",
      "text/plain": [
       "<matplotlib.figure.Figure at 0x119282240>"
      ]
     },
     "metadata": {},
     "output_type": "display_data"
    }
   ],
   "source": [
    "# Make a small df with decision func and actual label.\n",
    "df = pd.DataFrame({'y_cv':y_cv, 'y_pred_cv':y_pred_cv})\n",
    "plt.scatter(df['y_cv'],df['y_pred_cv'])\n",
    "plt.show()"
   ]
  },
  {
   "cell_type": "code",
   "execution_count": null,
   "metadata": {
    "collapsed": true
   },
   "outputs": [],
   "source": []
  }
 ],
 "metadata": {
  "kernelspec": {
   "display_name": "Python 3",
   "language": "python",
   "name": "python3"
  },
  "language_info": {
   "codemirror_mode": {
    "name": "ipython",
    "version": 3
   },
   "file_extension": ".py",
   "mimetype": "text/x-python",
   "name": "python",
   "nbconvert_exporter": "python",
   "pygments_lexer": "ipython3",
   "version": "3.5.2"
  }
 },
 "nbformat": 4,
 "nbformat_minor": 0
}
